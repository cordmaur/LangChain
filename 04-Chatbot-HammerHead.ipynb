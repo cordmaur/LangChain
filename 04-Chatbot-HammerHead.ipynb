{
 "cells": [
  {
   "cell_type": "markdown",
   "id": "bed9d881-4ca0-453c-83e5-253726772c23",
   "metadata": {},
   "source": [
    "# Chatbot for HammerHead"
   ]
  },
  {
   "cell_type": "markdown",
   "id": "400549d5-ceda-4bf1-9030-55702ca789a8",
   "metadata": {},
   "source": [
    "## Install packages"
   ]
  },
  {
   "cell_type": "code",
   "execution_count": 1,
   "id": "d8af2bf5-e2b9-455d-b84e-1b5061c8c8f7",
   "metadata": {
    "tags": []
   },
   "outputs": [
    {
     "name": "stdout",
     "output_type": "stream",
     "text": [
      "Note: you may need to restart the kernel to use updated packages.\n",
      "Note: you may need to restart the kernel to use updated packages.\n"
     ]
    }
   ],
   "source": [
    "%pip install langchain --quiet\n",
    "# %pip install pypdf --quiet\n",
    "%pip install openai --quiet\n",
    "# %pip install unstructured --quiet"
   ]
  },
  {
   "cell_type": "code",
   "execution_count": 2,
   "id": "ac5163ac-8285-4486-b438-fb36d8ddeeb7",
   "metadata": {
    "tags": []
   },
   "outputs": [],
   "source": [
    "# %pip install tiktoken --quiet"
   ]
  },
  {
   "cell_type": "code",
   "execution_count": 3,
   "id": "870a8634-f031-4507-9a90-92a9bfd1ace7",
   "metadata": {
    "tags": []
   },
   "outputs": [],
   "source": [
    "# %pip install \"langchain[docarray]\" -- quiet"
   ]
  },
  {
   "cell_type": "code",
   "execution_count": 4,
   "id": "200ea13c-736b-4d8a-940f-785c1075757d",
   "metadata": {
    "tags": []
   },
   "outputs": [],
   "source": [
    "# %pip install jq --quiet"
   ]
  },
  {
   "cell_type": "code",
   "execution_count": 5,
   "id": "6c855422-15ab-48ae-ad8c-603804f7f76b",
   "metadata": {
    "tags": []
   },
   "outputs": [],
   "source": [
    "# !pip install \"docarray[hnswlib]\" --quiet\n",
    "!pip install faiss-cpu --quiet\n"
   ]
  },
  {
   "cell_type": "code",
   "execution_count": 6,
   "id": "f3142d98-f73f-4047-9ee6-94aef5618ca3",
   "metadata": {
    "tags": []
   },
   "outputs": [],
   "source": [
    "!pip install voila --quiet"
   ]
  },
  {
   "cell_type": "markdown",
   "id": "b867aee8-06ac-42b7-9117-3ba86d832ca4",
   "metadata": {},
   "source": [
    "## Load the Vectorstore"
   ]
  },
  {
   "cell_type": "code",
   "execution_count": 14,
   "id": "a2acccc6-3341-4eed-8621-3c74e9c9fba6",
   "metadata": {
    "tags": []
   },
   "outputs": [],
   "source": [
    "from langchain.vectorstores import FAISS\n",
    "# from langchain.indexes.vectorstore import VectorStoreIndexWrapper\n",
    "from langchain.embeddings.openai import OpenAIEmbeddings\n",
    "import config\n"
   ]
  },
  {
   "cell_type": "code",
   "execution_count": 15,
   "id": "5a6a5d00-61a6-4261-af1b-d2960ae003e2",
   "metadata": {
    "tags": []
   },
   "outputs": [],
   "source": [
    "embeddings = OpenAIEmbeddings()\n"
   ]
  },
  {
   "cell_type": "code",
   "execution_count": 16,
   "id": "1ab5c666-4936-41ae-8387-05afddaeb69c",
   "metadata": {
    "tags": []
   },
   "outputs": [],
   "source": [
    "vectorstore = FAISS.load_local('./HammerHead/hh_faiss.store', embeddings=embeddings)"
   ]
  },
  {
   "cell_type": "code",
   "execution_count": 17,
   "id": "da1f4c18-f753-4804-9b5c-3d6f3b19a48b",
   "metadata": {
    "tags": []
   },
   "outputs": [],
   "source": [
    "# product_doc = 'Lista de Produtos. Esta página apresenta todas as categorias de produtos que estão disponíveis na loja HammerHead.'\n",
    "# product_doc += 'Os produtos estão divididos nas seguintes categorias:'\n",
    "# product_doc += 'Roupas de natação, Acessórios de natação, raquetes de beach tennis.' \n",
    "\n",
    "# vectorstore.add_texts(texts=[product_doc])\n",
    "# vectorstore.save_local('./HammerHead/hh_faiss.store')"
   ]
  },
  {
   "cell_type": "markdown",
   "id": "6712f5b1-19fa-45eb-ad46-df316a0a0616",
   "metadata": {},
   "source": [
    "## Creating RetrievalQA with Memory"
   ]
  },
  {
   "cell_type": "code",
   "execution_count": 18,
   "id": "8f5f372e-bdf9-4f6c-9901-9ed1fc66d7da",
   "metadata": {
    "tags": []
   },
   "outputs": [],
   "source": [
    "from langchain.chains import ConversationalRetrievalChain\n",
    "from langchain.llms import OpenAI\n",
    "import langchain\n",
    "\n",
    "from langchain.memory import ConversationBufferMemory"
   ]
  },
  {
   "cell_type": "code",
   "execution_count": 19,
   "id": "0e79521e-9a98-45d7-93ad-b0040fc4d590",
   "metadata": {
    "tags": []
   },
   "outputs": [],
   "source": [
    "memory = ConversationBufferMemory(memory_key=\"chat_history\", return_messages=True)"
   ]
  },
  {
   "cell_type": "code",
   "execution_count": 20,
   "id": "0b6d312e-a56c-46af-9e10-9c7014c629f2",
   "metadata": {
    "tags": []
   },
   "outputs": [],
   "source": [
    "qa = ConversationalRetrievalChain.from_llm(\n",
    "    llm=OpenAI(temperature=0), \n",
    "    retriever=vectorstore.as_retriever(top_k=10), \n",
    "    memory=memory,\n",
    "    return_source_documents=False,\n",
    "    verbose=False\n",
    "\n",
    ")"
   ]
  },
  {
   "cell_type": "code",
   "execution_count": 21,
   "id": "a79d95c2-96a8-4c14-8db5-ab4a970abf06",
   "metadata": {
    "tags": []
   },
   "outputs": [],
   "source": [
    "# langchain.debug=False\n",
    "# result = qa({\"question\": 'Qual marca você representa?'})\n",
    "# langchain.debug=False\n",
    "# result['answer']"
   ]
  },
  {
   "cell_type": "code",
   "execution_count": 22,
   "id": "e8dcc2ee-8ba4-44ac-91e3-ec372c8af6b9",
   "metadata": {
    "tags": []
   },
   "outputs": [],
   "source": [
    "# result = qa({\"question\": 'Quais categorias de produtos vocês possuem?'})\n",
    "# result['answer']"
   ]
  },
  {
   "cell_type": "code",
   "execution_count": 23,
   "id": "3e5fbb61-4def-4836-aed6-a691c00c34af",
   "metadata": {
    "tags": []
   },
   "outputs": [],
   "source": [
    "# result = qa({\"question\": 'Quais óculos vocês possuem?'})\n",
    "# result['answer']"
   ]
  },
  {
   "cell_type": "code",
   "execution_count": 24,
   "id": "e824e919-1347-4a71-b8e6-35ad1fe1c94c",
   "metadata": {
    "tags": []
   },
   "outputs": [],
   "source": [
    "# result = qa({\"question\": 'Quanto custa o Hammerhead Avenger?'})\n",
    "# result['answer']"
   ]
  },
  {
   "cell_type": "code",
   "execution_count": 25,
   "id": "3767046c-6ce7-41f6-8774-21d66f338fb6",
   "metadata": {
    "tags": []
   },
   "outputs": [],
   "source": [
    "# result = qa({\"question\": 'Eu gostaria de comprar o Hammerhead Avenger?'})\n",
    "# result['answer']"
   ]
  },
  {
   "cell_type": "markdown",
   "id": "cd1913b1-80eb-4e87-bd83-33b77221c72b",
   "metadata": {},
   "source": [
    "## Adding the Interactive Chat"
   ]
  },
  {
   "cell_type": "code",
   "execution_count": null,
   "id": "ecaa67eb-ac73-406e-8231-5550d5bcc230",
   "metadata": {},
   "outputs": [],
   "source": [
    "from datetime import datetime\n",
    "from IPython.display import HTML, display\n",
    "from ipywidgets import widgets"
   ]
  },
  {
   "cell_type": "code",
   "execution_count": null,
   "id": "a7e89dd1-2c44-4b70-bab9-3437ea4a2201",
   "metadata": {},
   "outputs": [
    {
     "data": {
      "text/html": [
       "<link rel=\"stylesheet\" \n",
       "      href=\"https://cdn.jsdelivr.net/npm/bootstrap@4.5.3/dist/css/bootstrap.min.css\" \n",
       "      integrity=\"sha384-TX8t27EcRE3e/ihU7zmQxVncDAy5uIKz4rEkgIXeMed4M0jlfIDPvg6uqKI2xXr2\" \n",
       "      crossorigin=\"anonymous\">\n",
       "<style>\n",
       "    body{margin-top:20px;}\n",
       "\n",
       "    .chat-message-left,\n",
       "    .chat-message-right {\n",
       "        display: flex;\n",
       "        flex-shrink: 0\n",
       "    }\n",
       "\n",
       "    .chat-message-left {\n",
       "        margin-right: auto\n",
       "    }\n",
       "\n",
       "    .chat-message-right {\n",
       "        flex-direction: row-reverse;\n",
       "        margin-left: auto\n",
       "    }\n",
       "</style>\n"
      ],
      "text/plain": [
       "<IPython.core.display.HTML object>"
      ]
     },
     "metadata": {},
     "output_type": "display_data"
    }
   ],
   "source": [
    "%%html\n",
    "<link rel=\"stylesheet\" \n",
    "      href=\"https://cdn.jsdelivr.net/npm/bootstrap@4.5.3/dist/css/bootstrap.min.css\" \n",
    "      integrity=\"sha384-TX8t27EcRE3e/ihU7zmQxVncDAy5uIKz4rEkgIXeMed4M0jlfIDPvg6uqKI2xXr2\" \n",
    "      crossorigin=\"anonymous\">\n",
    "<style>\n",
    "    body{margin-top:20px;}\n",
    "\n",
    "    .chat-message-left,\n",
    "    .chat-message-right {\n",
    "        display: flex;\n",
    "        flex-shrink: 0\n",
    "    }\n",
    "\n",
    "    .chat-message-left {\n",
    "        margin-right: auto\n",
    "    }\n",
    "\n",
    "    .chat-message-right {\n",
    "        flex-direction: row-reverse;\n",
    "        margin-left: auto\n",
    "    }\n",
    "</style>"
   ]
  },
  {
   "cell_type": "code",
   "execution_count": null,
   "id": "5e355051-aa9d-4dba-8b77-b1284c2d48d7",
   "metadata": {},
   "outputs": [],
   "source": [
    "\n",
    "chat_history = []\n",
    "\n",
    "\n",
    "def text_eventhandler(*args):\n",
    "    # Needed bc when we \"reset\" the text input\n",
    "    # it fires instantly another event since\n",
    "    # we \"changed\" it's value to \"\"\n",
    "    if args[0][\"new\"] == \"\":\n",
    "        return\n",
    "\n",
    "    # Show loading animation\n",
    "    loading_bar.layout.display = \"block\"\n",
    "\n",
    "    # Get question\n",
    "    question = args[0][\"new\"]\n",
    "\n",
    "    # Reset text field\n",
    "    args[0][\"owner\"].value = \"\"\n",
    "\n",
    "    # Formatting question for output\n",
    "    q = (\n",
    "        f'<div class=\"chat-message-right pb-4\"><div>'\n",
    "        + f'<img src=\"images/bear.png\" class=\"rounded-circle mr-1\" width=\"40\" height=\"40\">'\n",
    "        + f'<div class=\"text-muted small text-nowrap mt-2\">{datetime.now().strftime(\"%H:%M:%S\")}</div></div>'\n",
    "        + '<div class=\"flex-shrink-1 bg-light rounded py-2 px-3 ml-3\">'\n",
    "        + f'<div class=\"font-weight-bold mb-1\">You</div>{question}</div>'\n",
    "    )\n",
    "\n",
    "    # Display formatted question\n",
    "    output.append_display_data(HTML(q))\n",
    "\n",
    "    try:\n",
    "        response = qa({\"question\": f\"{question}\", \"chat_history\": chat_history})\n",
    "        answer = response[\"answer\"]\n",
    "        chat_history.append((question, answer))\n",
    "    except Exception as e:\n",
    "        answer = \"<b>Error:</b> \" + str(e)\n",
    "\n",
    "    # Formatting answer for output\n",
    "    # Replacing all $ otherwise matjax would format them in a strange way\n",
    "    answer_formatted = answer.replace('$', r'\\$')\n",
    "    a = (\n",
    "        f'<div class=\"chat-message-left pb-4\"><div>'\n",
    "        + f'<img src=\"images/cat.png\" class=\"rounded-circle mr-1\" width=\"40\" height=\"40\">'\n",
    "        + f'<div class=\"text-muted small text-nowrap mt-2\">{datetime.now().strftime(\"%H:%M:%S\")}</div></div>'\n",
    "        + '<div class=\"flex-shrink-1 bg-light rounded py-2 px-3 ml-3\">'\n",
    "        + f'<div class=\"font-weight-bold mb-1\">LLM</div>{answer_formatted}</div>'\n",
    "    )\n",
    "\n",
    "    # Turn off loading animation\n",
    "    loading_bar.layout.display = \"none\"\n",
    "\n",
    "    output.append_display_data(HTML(a))"
   ]
  },
  {
   "cell_type": "code",
   "execution_count": null,
   "id": "c651423c-212a-4c9d-83de-7f9b8509505b",
   "metadata": {},
   "outputs": [],
   "source": [
    "in_text = widgets.Text()\n",
    "in_text.continuous_update = False\n",
    "in_text.observe(text_eventhandler, \"value\")\n",
    "output = widgets.Output()\n",
    "\n",
    "file = open(\"./images/loading.gif\", \"rb\")\n",
    "image = file.read()\n",
    "loading_bar = widgets.Image(\n",
    "    value=image, format=\"gif\", width=\"20\", height=\"20\", layout={\"display\": \"None\"}\n",
    ")"
   ]
  },
  {
   "cell_type": "code",
   "execution_count": 30,
   "id": "217ca5fe-4a89-47a1-837c-61252f82d99d",
   "metadata": {
    "tags": []
   },
   "outputs": [
    {
     "data": {
      "application/vnd.jupyter.widget-view+json": {
       "model_id": "6b890be13b3a4252945f7ad7d9096ac5",
       "version_major": 2,
       "version_minor": 0
      },
      "text/plain": [
       "HBox(children=(Output(),), layout=Layout(display='inline-flex', flex_flow='column-reverse', max_height='500px'…"
      ]
     },
     "metadata": {},
     "output_type": "display_data"
    },
    {
     "data": {
      "application/vnd.jupyter.widget-view+json": {
       "model_id": "766ae8eeeb8447baa420c273804ee304",
       "version_major": 2,
       "version_minor": 0
      },
      "text/plain": [
       "Box(children=(Image(value=b'GIF89a\\xc8\\x00\\xc8\\x00\\xf7\\x00\\x00\\xab\\xbd\\x81\\xf8\\xd6\\xd8\\xfa\\xc5\\x8f\\xfc\\xdf\\xd7…"
      ]
     },
     "metadata": {},
     "output_type": "display_data"
    }
   ],
   "source": [
    "display(\n",
    "    widgets.HBox(\n",
    "        [output],\n",
    "        layout=widgets.Layout(\n",
    "            width=\"100%\",\n",
    "            max_height=\"500px\",\n",
    "            display=\"inline-flex\",\n",
    "            flex_flow=\"column-reverse\",\n",
    "        ),\n",
    "    )\n",
    ")\n",
    "\n",
    "\n",
    "display(\n",
    "    widgets.Box(\n",
    "        children=[loading_bar, in_text],\n",
    "        layout=widgets.Layout(display=\"flex\", flex_flow=\"row\"),\n",
    "    )\n",
    ")"
   ]
  },
  {
   "cell_type": "code",
   "execution_count": null,
   "id": "d78ab85e-03c3-41a6-a6fc-14ff4da3dd10",
   "metadata": {},
   "outputs": [],
   "source": []
  },
  {
   "cell_type": "code",
   "execution_count": 10,
   "id": "6a9c313c-663d-419a-81f1-c402e80e6128",
   "metadata": {
    "tags": []
   },
   "outputs": [],
   "source": [
    "txt_input.value='Boa tarde'\n",
    "btn_send.click()"
   ]
  },
  {
   "cell_type": "code",
   "execution_count": null,
   "id": "ba4b2192-1dbd-4626-84ca-514c2db3bb9b",
   "metadata": {},
   "outputs": [],
   "source": []
  },
  {
   "cell_type": "code",
   "execution_count": 3,
   "id": "a88bdd36-ae60-48a1-9d2a-4e1d9adc9e68",
   "metadata": {
    "tags": []
   },
   "outputs": [
    {
     "name": "stdout",
     "output_type": "stream",
     "text": [
      "Collecting panel\n",
      "  Downloading panel-1.2.0-py2.py3-none-any.whl (20.0 MB)\n",
      "\u001b[2K     \u001b[90m━━━━━━━━━━━━━━━━━━━━━━━━━━━━━━━━━━━━━━━━\u001b[0m \u001b[32m20.0/20.0 MB\u001b[0m \u001b[31m19.5 MB/s\u001b[0m eta \u001b[36m0:00:00\u001b[0m00:01\u001b[0m00:01\u001b[0m\n",
      "\u001b[?25hCollecting bokeh<3.3.0,>=3.1.1 (from panel)\n",
      "  Downloading bokeh-3.2.0-py3-none-any.whl (7.8 MB)\n",
      "\u001b[2K     \u001b[90m━━━━━━━━━━━━━━━━━━━━━━━━━━━━━━━━━━━━━━━━\u001b[0m \u001b[32m7.8/7.8 MB\u001b[0m \u001b[31m45.8 MB/s\u001b[0m eta \u001b[36m0:00:00\u001b[0m00:01\u001b[0m00:01\u001b[0m\n",
      "\u001b[?25hCollecting param>=1.12.0 (from panel)\n",
      "  Downloading param-1.13.0-py2.py3-none-any.whl (87 kB)\n",
      "\u001b[2K     \u001b[90m━━━━━━━━━━━━━━━━━━━━━━━━━━━━━━━━━━━━━━━━\u001b[0m \u001b[32m87.3/87.3 kB\u001b[0m \u001b[31m4.1 MB/s\u001b[0m eta \u001b[36m0:00:00\u001b[0m\n",
      "\u001b[?25hCollecting pyviz-comms>=0.7.4 (from panel)\n",
      "  Downloading pyviz_comms-2.3.2-py2.py3-none-any.whl (79 kB)\n",
      "\u001b[2K     \u001b[90m━━━━━━━━━━━━━━━━━━━━━━━━━━━━━━━━━━━━━━━━\u001b[0m \u001b[32m79.8/79.8 kB\u001b[0m \u001b[31m3.6 MB/s\u001b[0m eta \u001b[36m0:00:00\u001b[0m\n",
      "\u001b[?25hRequirement already satisfied: xyzservices>=2021.09.1 in /opt/conda/lib/python3.10/site-packages (from panel) (2023.2.0)\n",
      "Collecting markdown (from panel)\n",
      "  Downloading Markdown-3.4.3-py3-none-any.whl (93 kB)\n",
      "\u001b[2K     \u001b[90m━━━━━━━━━━━━━━━━━━━━━━━━━━━━━━━━━━━━━━━━\u001b[0m \u001b[32m93.9/93.9 kB\u001b[0m \u001b[31m8.4 MB/s\u001b[0m eta \u001b[36m0:00:00\u001b[0m\n",
      "\u001b[?25hCollecting markdown-it-py (from panel)\n",
      "  Downloading markdown_it_py-3.0.0-py3-none-any.whl (87 kB)\n",
      "\u001b[2K     \u001b[90m━━━━━━━━━━━━━━━━━━━━━━━━━━━━━━━━━━━━━━━━\u001b[0m \u001b[32m87.5/87.5 kB\u001b[0m \u001b[31m6.7 MB/s\u001b[0m eta \u001b[36m0:00:00\u001b[0m\n",
      "\u001b[?25hCollecting linkify-it-py (from panel)\n",
      "  Downloading linkify_it_py-2.0.2-py3-none-any.whl (19 kB)\n",
      "Collecting mdit-py-plugins (from panel)\n",
      "  Downloading mdit_py_plugins-0.4.0-py3-none-any.whl (54 kB)\n",
      "\u001b[2K     \u001b[90m━━━━━━━━━━━━━━━━━━━━━━━━━━━━━━━━━━━━━━━━\u001b[0m \u001b[32m54.1/54.1 kB\u001b[0m \u001b[31m5.2 MB/s\u001b[0m eta \u001b[36m0:00:00\u001b[0m\n",
      "\u001b[?25hRequirement already satisfied: requests in /opt/conda/lib/python3.10/site-packages (from panel) (2.29.0)\n",
      "Requirement already satisfied: tqdm>=4.48.0 in /opt/conda/lib/python3.10/site-packages (from panel) (4.65.0)\n",
      "Requirement already satisfied: bleach in /opt/conda/lib/python3.10/site-packages (from panel) (6.0.0)\n",
      "Requirement already satisfied: typing-extensions in /opt/conda/lib/python3.10/site-packages (from panel) (4.5.0)\n",
      "Requirement already satisfied: pandas>=1.2 in /opt/conda/lib/python3.10/site-packages (from panel) (2.0.1)\n",
      "Requirement already satisfied: Jinja2>=2.9 in /opt/conda/lib/python3.10/site-packages (from bokeh<3.3.0,>=3.1.1->panel) (3.1.2)\n",
      "Requirement already satisfied: contourpy>=1 in /opt/conda/lib/python3.10/site-packages (from bokeh<3.3.0,>=3.1.1->panel) (1.0.7)\n",
      "Requirement already satisfied: numpy>=1.16 in /opt/conda/lib/python3.10/site-packages (from bokeh<3.3.0,>=3.1.1->panel) (1.23.5)\n",
      "Requirement already satisfied: packaging>=16.8 in /opt/conda/lib/python3.10/site-packages (from bokeh<3.3.0,>=3.1.1->panel) (23.1)\n",
      "Requirement already satisfied: pillow>=7.1.0 in /opt/conda/lib/python3.10/site-packages (from bokeh<3.3.0,>=3.1.1->panel) (9.4.0)\n",
      "Requirement already satisfied: PyYAML>=3.10 in /opt/conda/lib/python3.10/site-packages (from bokeh<3.3.0,>=3.1.1->panel) (6.0)\n",
      "Requirement already satisfied: tornado>=5.1 in /opt/conda/lib/python3.10/site-packages (from bokeh<3.3.0,>=3.1.1->panel) (6.3)\n",
      "Requirement already satisfied: python-dateutil>=2.8.2 in /opt/conda/lib/python3.10/site-packages (from pandas>=1.2->panel) (2.8.2)\n",
      "Requirement already satisfied: pytz>=2020.1 in /opt/conda/lib/python3.10/site-packages (from pandas>=1.2->panel) (2023.3)\n",
      "Requirement already satisfied: tzdata>=2022.1 in /opt/conda/lib/python3.10/site-packages (from pandas>=1.2->panel) (2023.3)\n",
      "Requirement already satisfied: six>=1.9.0 in /opt/conda/lib/python3.10/site-packages (from bleach->panel) (1.16.0)\n",
      "Requirement already satisfied: webencodings in /opt/conda/lib/python3.10/site-packages (from bleach->panel) (0.5.1)\n",
      "Collecting uc-micro-py (from linkify-it-py->panel)\n",
      "  Downloading uc_micro_py-1.0.2-py3-none-any.whl (6.2 kB)\n",
      "Collecting mdurl~=0.1 (from markdown-it-py->panel)\n",
      "  Downloading mdurl-0.1.2-py3-none-any.whl (10.0 kB)\n",
      "Requirement already satisfied: charset-normalizer<4,>=2 in /opt/conda/lib/python3.10/site-packages (from requests->panel) (3.1.0)\n",
      "Requirement already satisfied: idna<4,>=2.5 in /opt/conda/lib/python3.10/site-packages (from requests->panel) (3.4)\n",
      "Requirement already satisfied: urllib3<1.27,>=1.21.1 in /opt/conda/lib/python3.10/site-packages (from requests->panel) (1.26.15)\n",
      "Requirement already satisfied: certifi>=2017.4.17 in /opt/conda/lib/python3.10/site-packages (from requests->panel) (2023.5.7)\n",
      "Requirement already satisfied: MarkupSafe>=2.0 in /opt/conda/lib/python3.10/site-packages (from Jinja2>=2.9->bokeh<3.3.0,>=3.1.1->panel) (2.1.2)\n",
      "Installing collected packages: uc-micro-py, param, mdurl, markdown, pyviz-comms, markdown-it-py, linkify-it-py, mdit-py-plugins, bokeh, panel\n",
      "  Attempting uninstall: bokeh\n",
      "    Found existing installation: bokeh 3.1.0\n",
      "    Uninstalling bokeh-3.1.0:\n",
      "      Successfully uninstalled bokeh-3.1.0\n",
      "Successfully installed bokeh-3.2.0 linkify-it-py-2.0.2 markdown-3.4.3 markdown-it-py-3.0.0 mdit-py-plugins-0.4.0 mdurl-0.1.2 panel-1.2.0 param-1.13.0 pyviz-comms-2.3.2 uc-micro-py-1.0.2\n",
      "Note: you may need to restart the kernel to use updated packages.\n"
     ]
    }
   ],
   "source": [
    "%pip install panel "
   ]
  },
  {
   "cell_type": "code",
   "execution_count": 1,
   "id": "110b2532-16d8-4718-9cc1-af0a3d786686",
   "metadata": {
    "tags": []
   },
   "outputs": [
    {
     "ename": "ModuleNotFoundError",
     "evalue": "No module named 'panel'",
     "output_type": "error",
     "traceback": [
      "\u001b[0;31m---------------------------------------------------------------------------\u001b[0m",
      "\u001b[0;31mModuleNotFoundError\u001b[0m                       Traceback (most recent call last)",
      "Cell \u001b[0;32mIn[1], line 1\u001b[0m\n\u001b[0;32m----> 1\u001b[0m \u001b[38;5;28;01mimport\u001b[39;00m \u001b[38;5;21;01mpanel\u001b[39;00m\n",
      "\u001b[0;31mModuleNotFoundError\u001b[0m: No module named 'panel'"
     ]
    }
   ],
   "source": [
    "import panel"
   ]
  },
  {
   "cell_type": "code",
   "execution_count": 2,
   "id": "46f0735c-2ddf-4bc0-8e08-0ba4c32fd219",
   "metadata": {
    "tags": []
   },
   "outputs": [
    {
     "ename": "ModuleNotFoundError",
     "evalue": "No module named 'param'",
     "output_type": "error",
     "traceback": [
      "\u001b[0;31m---------------------------------------------------------------------------\u001b[0m",
      "\u001b[0;31mModuleNotFoundError\u001b[0m                       Traceback (most recent call last)",
      "Cell \u001b[0;32mIn[2], line 1\u001b[0m\n\u001b[0;32m----> 1\u001b[0m \u001b[38;5;28;01mimport\u001b[39;00m \u001b[38;5;21;01mparam\u001b[39;00m\n",
      "\u001b[0;31mModuleNotFoundError\u001b[0m: No module named 'param'"
     ]
    }
   ],
   "source": [
    "import param"
   ]
  },
  {
   "cell_type": "code",
   "execution_count": null,
   "id": "d51f6226-78d4-41a6-97af-1b65e1a1c6c8",
   "metadata": {},
   "outputs": [],
   "source": []
  }
 ],
 "metadata": {
  "kernelspec": {
   "display_name": "Python 3 (ipykernel)",
   "language": "python",
   "name": "python3"
  },
  "language_info": {
   "codemirror_mode": {
    "name": "ipython",
    "version": 3
   },
   "file_extension": ".py",
   "mimetype": "text/x-python",
   "name": "python",
   "nbconvert_exporter": "python",
   "pygments_lexer": "ipython3",
   "version": "3.10.10"
  }
 },
 "nbformat": 4,
 "nbformat_minor": 5
}
