{
 "cells": [
  {
   "cell_type": "markdown",
   "id": "bed9d881-4ca0-453c-83e5-253726772c23",
   "metadata": {},
   "source": [
    "# Data Cleaning Vision System"
   ]
  },
  {
   "cell_type": "code",
   "execution_count": 46,
   "id": "d8af2bf5-e2b9-455d-b84e-1b5061c8c8f7",
   "metadata": {
    "tags": []
   },
   "outputs": [],
   "source": [
    "# %pip install langchain --quiet\n",
    "# %pip install pypdf --quiet\n",
    "# %pip install openai --quiet\n",
    "# %pip install unstructured --quiet"
   ]
  },
  {
   "cell_type": "code",
   "execution_count": 47,
   "id": "3705d7a2-ab36-4a5b-b647-46c17fe4ffdc",
   "metadata": {
    "tags": []
   },
   "outputs": [
    {
     "name": "stdout",
     "output_type": "stream",
     "text": [
      "Note: you may need to restart the kernel to use updated packages.\n",
      "Note: you may need to restart the kernel to use updated packages.\n"
     ]
    }
   ],
   "source": [
    "%pip install tiktoken --quiet\n",
    "%pip install jq --quiet"
   ]
  },
  {
   "cell_type": "code",
   "execution_count": 48,
   "id": "6c855422-15ab-48ae-ad8c-603804f7f76b",
   "metadata": {
    "tags": []
   },
   "outputs": [],
   "source": [
    "# !pip install \"docarray[hnswlib]\" --quiet\n",
    "# !pip install faiss-cpu --quiet\n"
   ]
  },
  {
   "cell_type": "code",
   "execution_count": 49,
   "id": "bf87c2fc-7081-4125-a4e6-a66c895846e3",
   "metadata": {
    "tags": []
   },
   "outputs": [],
   "source": [
    "import os\n",
    "\n",
    "from pathlib import Path\n",
    "import json\n",
    "\n",
    "from langchain.chains import RetrievalQA\n",
    "from langchain.chat_models import ChatOpenAI\n",
    "from langchain.document_loaders import CSVLoader\n",
    "from langchain.vectorstores import DocArrayInMemorySearch\n",
    "from IPython.display import display, Markdown\n",
    "\n",
    "from langchain.document_loaders import JSONLoader as Loader\n",
    "\n",
    "from langchain.indexes import VectorstoreIndexCreator\n",
    "\n",
    "from langchain.vectorstores import DocArrayHnswSearch\n",
    "\n",
    "import config"
   ]
  },
  {
   "cell_type": "markdown",
   "id": "9df29405-6a73-40a5-b528-ca1fb6240097",
   "metadata": {},
   "source": [
    "## Data Cleaning "
   ]
  },
  {
   "cell_type": "code",
   "execution_count": 50,
   "id": "9022865d-e5e5-4974-8fb2-8cfd311624c7",
   "metadata": {
    "tags": []
   },
   "outputs": [],
   "source": [
    "file = Path('./VisionSystem/visionsystem_scrap.json')\n",
    "assert file.exists()\n"
   ]
  },
  {
   "cell_type": "code",
   "execution_count": 51,
   "id": "c1cf6680-1b8e-4116-968b-91e01e391b64",
   "metadata": {
    "tags": []
   },
   "outputs": [
    {
     "data": {
      "text/plain": [
       "50"
      ]
     },
     "execution_count": 51,
     "metadata": {},
     "output_type": "execute_result"
    }
   ],
   "source": [
    "data = json.loads(Path(file).read_text())\n",
    "len(data)"
   ]
  },
  {
   "cell_type": "code",
   "execution_count": 52,
   "id": "5f205209-0747-4099-b279-b37ff5ebed37",
   "metadata": {
    "tags": []
   },
   "outputs": [
    {
     "data": {
      "text/plain": [
       "50"
      ]
     },
     "execution_count": 52,
     "metadata": {},
     "output_type": "execute_result"
    }
   ],
   "source": [
    "# Clean Step #1 - Remove null texts\n",
    "for item in data:\n",
    "    if not isinstance(item['text'], str):\n",
    "        data.pop(data.index(item))\n",
    "\n",
    "len(data)"
   ]
  },
  {
   "cell_type": "code",
   "execution_count": 53,
   "id": "c6868195-90f6-4bea-a5a6-cbaeba60b6ea",
   "metadata": {
    "tags": []
   },
   "outputs": [],
   "source": [
    "# # Clean Step #2 - Remove all uninformative text before AGENDAR ONLINE\n",
    "# for item in data:\n",
    "    \n",
    "#     text = item.get('text')\n",
    "#     descr = item.get('description')\n",
    "      \n",
    "#     if text is None:\n",
    "#         continue \n",
    "    \n",
    "#     item['text'] = text.split('AGENDAR ONLINE')[1]\n",
    "\n",
    "    \n",
    "\n",
    "# # Clean Step #3 - Remove\n",
    "# # disclosure_text = 'Responsável ' + json_file[8]['text'].split('\\nResponsável ')[1]\n",
    "# for item in data:\n",
    "    \n",
    "#     text = item.get('text')\n",
    "#     descr = item.get('description')\n",
    "      \n",
    "#     if text is None:\n",
    "#         continue \n",
    "    \n",
    "#     item['text'] = text.split('\\nResponsável')[0]\n",
    "    \n",
    "# # json_file.append({'description': 'Informações Gerais', 'text': disclosure_text})"
   ]
  },
  {
   "cell_type": "code",
   "execution_count": 58,
   "id": "8596d54f-9e57-4b8a-9eda-02d1ef0c4846",
   "metadata": {
    "tags": []
   },
   "outputs": [],
   "source": [
    "with open(file.with_name('visionsystem_cleaned.json'), 'w') as json_file:\n",
    "    json.dump(data, json_file)\n",
    "    "
   ]
  },
  {
   "cell_type": "code",
   "execution_count": 56,
   "id": "a61701bd-1e77-43d9-83c6-c0db8c24f008",
   "metadata": {
    "tags": []
   },
   "outputs": [],
   "source": [
    "with open(file.with_name('visionsystem_cleaned_small.json'), 'w') as json_file:\n",
    "    json.dump(data[:20], json_file)\n",
    "    "
   ]
  },
  {
   "cell_type": "markdown",
   "id": "b867aee8-06ac-42b7-9117-3ba86d832ca4",
   "metadata": {},
   "source": [
    "## Create the Index"
   ]
  },
  {
   "cell_type": "code",
   "execution_count": 57,
   "id": "a2acccc6-3341-4eed-8621-3c74e9c9fba6",
   "metadata": {
    "tags": []
   },
   "outputs": [],
   "source": [
    "from langchain.indexes import VectorstoreIndexCreator\n",
    "from langchain.vectorstores import FAISS\n",
    "from langchain.indexes.vectorstore import VectorStoreIndexWrapper\n",
    "\n",
    "from langchain.embeddings.openai import OpenAIEmbeddings\n"
   ]
  },
  {
   "cell_type": "code",
   "execution_count": 59,
   "id": "aa115ff2-7510-49aa-bb51-d999432bf037",
   "metadata": {
    "tags": []
   },
   "outputs": [],
   "source": [
    "file_path = file.with_name('visionsystem_cleaned_small.json').as_posix()\n",
    "file_path = file.with_name('visionsystem_cleaned.json').as_posix()\n",
    "\n",
    "\n",
    "assert (Path(file_path).exists())"
   ]
  },
  {
   "cell_type": "code",
   "execution_count": 60,
   "id": "35370dcc-bac2-4fff-b55d-7a456a94567f",
   "metadata": {
    "tags": []
   },
   "outputs": [],
   "source": [
    "loader = Loader(file_path=file_path, jq_schema='.[].text', text_content=True)"
   ]
  },
  {
   "cell_type": "code",
   "execution_count": 61,
   "id": "7bc52876-d66c-41ba-9cc5-4c248d718bda",
   "metadata": {
    "tags": []
   },
   "outputs": [
    {
     "data": {
      "text/plain": [
       "50"
      ]
     },
     "execution_count": 61,
     "metadata": {},
     "output_type": "execute_result"
    }
   ],
   "source": [
    "docs = loader.load()\n",
    "len(docs)"
   ]
  },
  {
   "cell_type": "code",
   "execution_count": 62,
   "id": "098b1610-0d34-4ade-810d-bbcd638dcfc3",
   "metadata": {
    "tags": []
   },
   "outputs": [],
   "source": [
    "embeddings = OpenAIEmbeddings()\n",
    "db = FAISS.from_documents(\n",
    "    docs, embeddings,)"
   ]
  },
  {
   "cell_type": "code",
   "execution_count": 63,
   "id": "fbbe0ea1-712d-4539-9d7c-c221a3d66606",
   "metadata": {
    "tags": []
   },
   "outputs": [],
   "source": [
    "index = VectorstoreIndexCreator(\n",
    "    vectorstore_cls=FAISS,\n",
    ").from_loaders([loader])"
   ]
  },
  {
   "cell_type": "code",
   "execution_count": 66,
   "id": "50cb9ad0-7bf9-4bc0-9fcb-d95a654967f1",
   "metadata": {
    "tags": []
   },
   "outputs": [
    {
     "data": {
      "text/markdown": [
       " Sim, a Vision tem software de CRM. O nome do software é Vision Controller."
      ],
      "text/plain": [
       "<IPython.core.display.Markdown object>"
      ]
     },
     "metadata": {},
     "output_type": "display_data"
    }
   ],
   "source": [
    "query = \"a Vision tem software de CRM? qual o nome?\"\n",
    "\n",
    "response = index.query(query)\n",
    "\n",
    "display(Markdown(response))"
   ]
  },
  {
   "cell_type": "code",
   "execution_count": 67,
   "id": "72e0b619-e12f-4562-9ed9-2f175b6cea70",
   "metadata": {
    "tags": []
   },
   "outputs": [],
   "source": [
    "index.vectorstore.save_local('./VisionSystem/vision_faiss.store')"
   ]
  },
  {
   "cell_type": "markdown",
   "id": "33f09e44-869b-41c4-8d76-9ceb16791922",
   "metadata": {},
   "source": [
    "## Loading Pre-saved VectorStore"
   ]
  },
  {
   "cell_type": "code",
   "execution_count": 208,
   "id": "1ab5c666-4936-41ae-8387-05afddaeb69c",
   "metadata": {
    "tags": []
   },
   "outputs": [],
   "source": [
    "vectorstore = FAISS.load_local('./HammerHead/hh_faiss.store', embeddings=embeddings)"
   ]
  },
  {
   "cell_type": "code",
   "execution_count": 209,
   "id": "040f8a8e-e597-4ce5-97b5-8c17607d0e71",
   "metadata": {
    "tags": []
   },
   "outputs": [],
   "source": [
    "new_index = VectorStoreIndexWrapper(vectorstore=vectorstore)"
   ]
  },
  {
   "cell_type": "code",
   "execution_count": 212,
   "id": "583a7f54-6915-41cc-a286-3859d9847adb",
   "metadata": {
    "tags": []
   },
   "outputs": [
    {
     "data": {
      "text/plain": [
       "' Olá! Não entendi a sua pergunta.'"
      ]
     },
     "execution_count": 212,
     "metadata": {},
     "output_type": "execute_result"
    }
   ],
   "source": [
    "new_index.query('olá')"
   ]
  },
  {
   "cell_type": "code",
   "execution_count": 214,
   "id": "b16d6fc7-92f3-4b39-90cb-2739e068a840",
   "metadata": {},
   "outputs": [
    {
     "data": {
      "text/plain": [
       "' Sim, temos o Óculos Focus Júnior 2.0.'"
      ]
     },
     "execution_count": 214,
     "metadata": {},
     "output_type": "execute_result"
    }
   ],
   "source": [
    "new_index.query('Vocês possuem óculos?')"
   ]
  },
  {
   "cell_type": "code",
   "execution_count": 215,
   "id": "68299b34-6cd6-43f6-aaed-7a6566bf9215",
   "metadata": {
    "tags": []
   },
   "outputs": [
    {
     "data": {
      "text/plain": [
       "' R$146,90'"
      ]
     },
     "execution_count": 215,
     "metadata": {},
     "output_type": "execute_result"
    }
   ],
   "source": [
    "new_index.query('Qual o preço?')"
   ]
  },
  {
   "cell_type": "code",
   "execution_count": 216,
   "id": "5c26d752-9cc8-4d61-a15b-7a3f13254b88",
   "metadata": {
    "tags": []
   },
   "outputs": [
    {
     "data": {
      "text/plain": [
       "' Não, existem vários modelos disponíveis.'"
      ]
     },
     "execution_count": 216,
     "metadata": {},
     "output_type": "execute_result"
    }
   ],
   "source": [
    "new_index.query('Possuem apenas este modelo?')"
   ]
  },
  {
   "cell_type": "code",
   "execution_count": 217,
   "id": "dc28ac71-a8d3-4b73-b7c7-1eadac814fec",
   "metadata": {
    "tags": []
   },
   "outputs": [
    {
     "data": {
      "text/plain": [
       "' Os modelos disponíveis são o Velocity 4.0 e o Vortex 2.0.'"
      ]
     },
     "execution_count": 217,
     "metadata": {},
     "output_type": "execute_result"
    }
   ],
   "source": [
    "new_index.query('Quais são os modelos disponíveis?')"
   ]
  },
  {
   "cell_type": "code",
   "execution_count": 54,
   "id": "d24450c1-c6ed-49a7-9975-508d30a2a92b",
   "metadata": {
    "tags": []
   },
   "outputs": [
    {
     "data": {
      "text/plain": [
       "' Nós possuímos dois óculos de natação: o Óculos de Natação Aqua 2.0 da linha F.SHERER e o Óculos de Natação AQUATECH MIRROR da linha performance.'"
      ]
     },
     "execution_count": 54,
     "metadata": {},
     "output_type": "execute_result"
    }
   ],
   "source": [
    "new_index.query('Quantos óculos de natação que voces possuem?')"
   ]
  },
  {
   "cell_type": "code",
   "execution_count": 55,
   "id": "0432c9ef-e6d3-40d1-9364-f33c19290a8d",
   "metadata": {
    "tags": []
   },
   "outputs": [
    {
     "data": {
      "text/plain": [
       "' Representamos a marca Hammerhead.'"
      ]
     },
     "execution_count": 55,
     "metadata": {},
     "output_type": "execute_result"
    }
   ],
   "source": [
    "new_index.query('Qual a marca vocês representam?')"
   ]
  },
  {
   "cell_type": "code",
   "execution_count": 56,
   "id": "47566300-de3a-44b7-aabb-298dfb7251c7",
   "metadata": {
    "tags": []
   },
   "outputs": [
    {
     "data": {
      "text/plain": [
       "' O óculos Aqua 2.0 da linha F.SHERER é perfeito para aqueles que praticam a natação no dia a dia. Possui lentes de policarbonato, 100% de proteção UV, narigueira removível em 3 tamanhos (ajustáveis), tira dupla de silicone (mais resistente e confortável) e padrão ótico internacional.'"
      ]
     },
     "execution_count": 56,
     "metadata": {},
     "output_type": "execute_result"
    }
   ],
   "source": [
    "new_index.query('Como é o óculos Aqua 2.0?')"
   ]
  },
  {
   "cell_type": "code",
   "execution_count": 57,
   "id": "a0e1035c-334f-443a-a5e4-e4f081054ca9",
   "metadata": {
    "tags": []
   },
   "outputs": [
    {
     "data": {
      "text/plain": [
       "' O óculos Aqua 2.0 custa R$90,90.'"
      ]
     },
     "execution_count": 57,
     "metadata": {},
     "output_type": "execute_result"
    }
   ],
   "source": [
    "new_index.query('Qual o preço do óculos Aqua 2.0')"
   ]
  },
  {
   "cell_type": "code",
   "execution_count": 59,
   "id": "501c7ede-4439-4bc5-8ddf-8d54df05b9ea",
   "metadata": {},
   "outputs": [
    {
     "data": {
      "text/plain": [
       "' Não, não entregamos em todo o Brasil. No entanto, trabalhamos com empresas parceiras, provedores de serviços ou parceiros para gerenciar ou suportar certos aspectos de nossas operações comerciais em nosso nome, com o objetivo de nos ajudar a gerenciar a loja. Esses provedores de serviços ou parceiros podem estar localizados nos Estados Unidos, na Argentina, no Brasil ou em outros locais globais.'"
      ]
     },
     "execution_count": 59,
     "metadata": {},
     "output_type": "execute_result"
    }
   ],
   "source": [
    "new_index.query('Vocês entregam em todo o brasil?')"
   ]
  },
  {
   "cell_type": "code",
   "execution_count": 48,
   "id": "f1fc0cf5-949d-4be4-9bf6-31593fd43dd5",
   "metadata": {},
   "outputs": [
    {
     "data": {
      "text/plain": [
       "' O óculos Olympic possui lentes de policarbonato, 100% de proteção contra os raios UV, narigueira removível em três tamanhos, vedação em silicone Comfort, tira de silicone Racing e design com baixo perfil.'"
      ]
     },
     "execution_count": 48,
     "metadata": {},
     "output_type": "execute_result"
    }
   ],
   "source": [
    "new_index.query('Como é o óculos Olympic?')"
   ]
  },
  {
   "cell_type": "code",
   "execution_count": 51,
   "id": "445bc94a-a1b0-4dc4-b3f7-cf8981b865f5",
   "metadata": {},
   "outputs": [
    {
     "data": {
      "text/plain": [
       "' O preço do óculos Olympic é R$84,90.'"
      ]
     },
     "execution_count": 51,
     "metadata": {},
     "output_type": "execute_result"
    }
   ],
   "source": [
    "new_index.query('Qual o preço do óculos Olympic?')"
   ]
  },
  {
   "cell_type": "code",
   "execution_count": 62,
   "id": "9daca482-1b41-4477-8d1a-062eea9820a4",
   "metadata": {},
   "outputs": [
    {
     "data": {
      "text/plain": [
       "' Sim, temos óculos de natação infantil. O Óculos Focus Júnior 2.0 e o Óculos de Natação Sprinter Júnior são ótimas opções para crianças que praticam natação. O Óculos Focus Júnior 1.0 e o Óculos de Natação Aqua 2.0 também são ótimas opções.'"
      ]
     },
     "execution_count": 62,
     "metadata": {},
     "output_type": "execute_result"
    }
   ],
   "source": [
    "new_index.query('Vocês têm óculos de natação infantil?')"
   ]
  },
  {
   "cell_type": "code",
   "execution_count": 63,
   "id": "e7850692-0d9a-4059-b986-7fe3f2f34e2c",
   "metadata": {
    "tags": []
   },
   "outputs": [
    {
     "data": {
      "text/plain": [
       "' Possuímos uma raquete de Beach Tennis Hammerhead Avenger. Ela possui uma moldura de carbono e uma face de carbono 3K, acompanhada de uma capa protetora.'"
      ]
     },
     "execution_count": 63,
     "metadata": {},
     "output_type": "execute_result"
    }
   ],
   "source": [
    "new_index.query('Que tipo de raquete vocês possuem?')"
   ]
  },
  {
   "cell_type": "code",
   "execution_count": 64,
   "id": "8cba03f6-3886-4ce0-90f9-0e3f20663059",
   "metadata": {
    "tags": []
   },
   "outputs": [
    {
     "data": {
      "text/plain": [
       "' Nós possuímos a raquete de Beach Tennis Hammerhead Avenger. Ela possui uma combinação de carbono e fibra de vidro na estrutura, proporcionando leveza, absorção de impacto e controle nos golpes. Ela também possui tecnologias como Quadro tubular duplo em carbono, Revestimento em fibra de vidro S2-Glass, EVA Soft 15, Spin Surface, 28 furos, Baixo impacto e conforto, Excelente elasticidade e resistência. O comprimento é de 50cm, o peso é de 330g, o perfil é de 22mm e o ponto de equilíbrio é de 25cm. Acompanha capa protetora.'"
      ]
     },
     "execution_count": 64,
     "metadata": {},
     "output_type": "execute_result"
    }
   ],
   "source": [
    "new_index.query('Quais raquetes vocês possuem?')"
   ]
  },
  {
   "cell_type": "code",
   "execution_count": 65,
   "id": "b1c5c339-312a-4fc5-a4d9-66589b6b7ea4",
   "metadata": {
    "tags": []
   },
   "outputs": [
    {
     "data": {
      "text/plain": [
       "' Sim, possuímos a raquete Hammerhead Warrior. Ela possui quadro tubular duplo em carbono e face em carbono 3K com 3 mil filamentos.'"
      ]
     },
     "execution_count": 65,
     "metadata": {},
     "output_type": "execute_result"
    }
   ],
   "source": [
    "new_index.query('Vocês possuem a raquete warrior?')"
   ]
  },
  {
   "cell_type": "markdown",
   "id": "cd42a2d5-1dfa-4218-89a0-020e2b8c3b14",
   "metadata": {},
   "source": [
    "## Adding Docs To Database"
   ]
  },
  {
   "cell_type": "code",
   "execution_count": 322,
   "id": "fc768d5b-6ebf-4958-bcc3-13191fce5755",
   "metadata": {
    "tags": []
   },
   "outputs": [
    {
     "name": "stdout",
     "output_type": "stream",
     "text": [
      "Lista de Produtos. Esta página apresenta todas as categorias de produtos que estão disponíveis na loja HammerHead.Os produtos estão divididos nas seguintes categorias:Roupas de natação, Acessórios de natação, raquetes de beach tennis.\n"
     ]
    }
   ],
   "source": [
    "query = \"Quais produtos estão disponíveis\"\n",
    "docs = vectorstore.similarity_search(query)\n",
    "print(docs[0].page_content)"
   ]
  },
  {
   "cell_type": "code",
   "execution_count": 320,
   "id": "f83dc459-480a-420d-873d-12dccd1b3b9f",
   "metadata": {
    "tags": []
   },
   "outputs": [],
   "source": [
    "product_doc = 'Lista de Produtos. Esta página apresenta todas as categorias de produtos que estão disponíveis na loja HammerHead.'\n",
    "product_doc += 'Os produtos estão divididos nas seguintes categorias:'\n",
    "product_doc += 'Roupas de natação, Acessórios de natação, raquetes de beach tennis.' \n"
   ]
  },
  {
   "cell_type": "code",
   "execution_count": 321,
   "id": "de2e0562-9f45-4ff7-93d2-76da34ab8e0a",
   "metadata": {
    "tags": []
   },
   "outputs": [
    {
     "data": {
      "text/plain": [
       "['98ace042-5a92-49fb-adff-a7ca3d7e50a4']"
      ]
     },
     "execution_count": 321,
     "metadata": {},
     "output_type": "execute_result"
    }
   ],
   "source": [
    "vectorstore.add_texts(texts=[product_doc])"
   ]
  },
  {
   "cell_type": "code",
   "execution_count": 331,
   "id": "3da709e8-a8dc-496c-b2d2-f6df832f1131",
   "metadata": {
    "tags": []
   },
   "outputs": [],
   "source": [
    "vectorstore.save_local('./HammerHead/hh_faiss.store')"
   ]
  },
  {
   "cell_type": "markdown",
   "id": "6712f5b1-19fa-45eb-ad46-df316a0a0616",
   "metadata": {},
   "source": [
    "## Creating RetrievalQA with Memory"
   ]
  },
  {
   "cell_type": "code",
   "execution_count": 323,
   "id": "84e9ff77-5123-4548-8afe-d0aded8dda8c",
   "metadata": {
    "tags": []
   },
   "outputs": [],
   "source": [
    "from langchain.chains import ConversationalRetrievalChain\n",
    "from langchain.llms import OpenAI\n",
    "import langchain"
   ]
  },
  {
   "cell_type": "code",
   "execution_count": 324,
   "id": "087ae1d6-6fa4-40d5-8a3a-982d6a7b2a89",
   "metadata": {
    "tags": []
   },
   "outputs": [],
   "source": [
    "from langchain.memory import ConversationBufferMemory\n",
    "memory = ConversationBufferMemory(memory_key=\"chat_history\", return_messages=True)"
   ]
  },
  {
   "cell_type": "code",
   "execution_count": 335,
   "id": "0b6d312e-a56c-46af-9e10-9c7014c629f2",
   "metadata": {
    "tags": []
   },
   "outputs": [],
   "source": [
    "qa = ConversationalRetrievalChain.from_llm(\n",
    "    llm=OpenAI(temperature=0), \n",
    "    retriever=vectorstore.as_retriever(top_k=10), \n",
    "    memory=memory,\n",
    "    return_source_documents=False,\n",
    "    verbose=False\n",
    "\n",
    ")"
   ]
  },
  {
   "cell_type": "code",
   "execution_count": 336,
   "id": "a79d95c2-96a8-4c14-8db5-ab4a970abf06",
   "metadata": {
    "tags": []
   },
   "outputs": [
    {
     "data": {
      "text/plain": [
       "' Represento a marca Hammerhead.'"
      ]
     },
     "execution_count": 336,
     "metadata": {},
     "output_type": "execute_result"
    }
   ],
   "source": [
    "langchain.debug=False\n",
    "result = qa({\"question\": 'Qual marca você representa?'})\n",
    "langchain.debug=False\n",
    "result['answer']"
   ]
  },
  {
   "cell_type": "code",
   "execution_count": 337,
   "id": "e8dcc2ee-8ba4-44ac-91e3-ec372c8af6b9",
   "metadata": {
    "tags": []
   },
   "outputs": [
    {
     "data": {
      "text/plain": [
       "' As categorias de produtos da marca Hammerhead são Roupas de natação, Acessórios de natação e Raquetes de beach tennis.'"
      ]
     },
     "execution_count": 337,
     "metadata": {},
     "output_type": "execute_result"
    }
   ],
   "source": [
    "result = qa({\"question\": 'Quais categorias de produtos vocês possuem?'})\n",
    "result['answer']"
   ]
  },
  {
   "cell_type": "code",
   "execution_count": 338,
   "id": "3e5fbb61-4def-4836-aed6-a691c00c34af",
   "metadata": {
    "tags": []
   },
   "outputs": [
    {
     "data": {
      "text/plain": [
       "' A marca Hammerhead oferece os óculos de natação Hammerhead Eclipse, Hammerhead Avenger, Hammerhead Wave Pro e Shark.'"
      ]
     },
     "execution_count": 338,
     "metadata": {},
     "output_type": "execute_result"
    }
   ],
   "source": [
    "result = qa({\"question\": 'Quais óculos de natação vocês possuem?'})\n",
    "result['answer']"
   ]
  },
  {
   "cell_type": "code",
   "execution_count": 339,
   "id": "e824e919-1347-4a71-b8e6-35ad1fe1c94c",
   "metadata": {
    "tags": []
   },
   "outputs": [
    {
     "data": {
      "text/plain": [
       "' R$96,90'"
      ]
     },
     "execution_count": 339,
     "metadata": {},
     "output_type": "execute_result"
    }
   ],
   "source": [
    "result = qa({\"question\": 'Quanto custa o Hammerhead Avenger?'})\n",
    "result['answer']"
   ]
  },
  {
   "cell_type": "code",
   "execution_count": 340,
   "id": "3767046c-6ce7-41f6-8774-21d66f338fb6",
   "metadata": {
    "tags": []
   },
   "outputs": [
    {
     "data": {
      "text/plain": [
       "' R$699,00'"
      ]
     },
     "execution_count": 340,
     "metadata": {},
     "output_type": "execute_result"
    }
   ],
   "source": [
    "result = qa({\"question\": 'Eu gostaria de comprar o Hammerhead Avenger?'})\n",
    "result['answer']"
   ]
  },
  {
   "cell_type": "code",
   "execution_count": null,
   "id": "814e6a8f-7e0a-47ce-8a50-a7b0c2f0c0f2",
   "metadata": {},
   "outputs": [],
   "source": []
  },
  {
   "cell_type": "code",
   "execution_count": null,
   "id": "ecaa67eb-ac73-406e-8231-5550d5bcc230",
   "metadata": {},
   "outputs": [],
   "source": []
  },
  {
   "cell_type": "code",
   "execution_count": null,
   "id": "a7e89dd1-2c44-4b70-bab9-3437ea4a2201",
   "metadata": {},
   "outputs": [],
   "source": []
  },
  {
   "cell_type": "code",
   "execution_count": null,
   "id": "5e355051-aa9d-4dba-8b77-b1284c2d48d7",
   "metadata": {},
   "outputs": [],
   "source": []
  },
  {
   "cell_type": "code",
   "execution_count": null,
   "id": "c651423c-212a-4c9d-83de-7f9b8509505b",
   "metadata": {},
   "outputs": [],
   "source": []
  },
  {
   "cell_type": "code",
   "execution_count": null,
   "id": "217ca5fe-4a89-47a1-837c-61252f82d99d",
   "metadata": {},
   "outputs": [],
   "source": [
    "Quanto custa o sunquíni hammerhead?"
   ]
  },
  {
   "cell_type": "code",
   "execution_count": null,
   "id": "110b2532-16d8-4718-9cc1-af0a3d786686",
   "metadata": {},
   "outputs": [],
   "source": []
  },
  {
   "cell_type": "code",
   "execution_count": null,
   "id": "46f0735c-2ddf-4bc0-8e08-0ba4c32fd219",
   "metadata": {},
   "outputs": [],
   "source": []
  },
  {
   "cell_type": "code",
   "execution_count": null,
   "id": "d51f6226-78d4-41a6-97af-1b65e1a1c6c8",
   "metadata": {},
   "outputs": [],
   "source": []
  },
  {
   "cell_type": "code",
   "execution_count": null,
   "id": "91c04821-f1bc-4614-8d80-da3ee646f278",
   "metadata": {},
   "outputs": [],
   "source": [
    "result = qa({\"question\": 'Vocês possuem óculos de natação para crianças?'})"
   ]
  },
  {
   "cell_type": "code",
   "execution_count": 334,
   "id": "0a9ce08c-1d7b-4503-abfe-b870d3896301",
   "metadata": {
    "tags": []
   },
   "outputs": [
    {
     "name": "stdout",
     "output_type": "stream",
     "text": [
      "\u001b[32;1m\u001b[1;3m[chain/start]\u001b[0m \u001b[1m[1:chain:ConversationalRetrievalChain] Entering Chain run with input:\n",
      "\u001b[0m[inputs]\n",
      "\u001b[32;1m\u001b[1;3m[chain/start]\u001b[0m \u001b[1m[1:chain:ConversationalRetrievalChain > 2:chain:LLMChain] Entering Chain run with input:\n",
      "\u001b[0m{\n",
      "  \"question\": \"Quanto custa o sunquíni hammerhead?\",\n",
      "  \"chat_history\": \"\\nHuman: Qual marca você representa?\\nAssistant:  Represento a marca Hammerhead.\\nHuman: Qual marca você representa?\\nAssistant:  Represento a marca Hammerhead.\\nHuman: Quais categorias de produtos vocês possuem?\\nAssistant:  A marca Hammerhead possui as categorias de produtos Roupas de natação, Acessórios de natação e raquetes de beach tennis.\\nHuman: Quais os preços do óculos Sprinter JR?\\nAssistant:  Não sei.\\nHuman: Quantos reais custa o óculos Sprinter JR?\\nAssistant:  Não sei.\"\n",
      "}\n",
      "\u001b[32;1m\u001b[1;3m[llm/start]\u001b[0m \u001b[1m[1:chain:ConversationalRetrievalChain > 2:chain:LLMChain > 3:llm:OpenAI] Entering LLM run with input:\n",
      "\u001b[0m{\n",
      "  \"prompts\": [\n",
      "    \"Given the following conversation and a follow up question, rephrase the follow up question to be a standalone question, in its original language.\\n\\nChat History:\\n\\nHuman: Qual marca você representa?\\nAssistant:  Represento a marca Hammerhead.\\nHuman: Qual marca você representa?\\nAssistant:  Represento a marca Hammerhead.\\nHuman: Quais categorias de produtos vocês possuem?\\nAssistant:  A marca Hammerhead possui as categorias de produtos Roupas de natação, Acessórios de natação e raquetes de beach tennis.\\nHuman: Quais os preços do óculos Sprinter JR?\\nAssistant:  Não sei.\\nHuman: Quantos reais custa o óculos Sprinter JR?\\nAssistant:  Não sei.\\nFollow Up Input: Quanto custa o sunquíni hammerhead?\\nStandalone question:\"\n",
      "  ]\n",
      "}\n",
      "\u001b[36;1m\u001b[1;3m[llm/end]\u001b[0m \u001b[1m[1:chain:ConversationalRetrievalChain > 2:chain:LLMChain > 3:llm:OpenAI] [1.46s] Exiting LLM run with output:\n",
      "\u001b[0m{\n",
      "  \"generations\": [\n",
      "    [\n",
      "      {\n",
      "        \"text\": \" Quanto custa o sunquíni da marca Hammerhead?\",\n",
      "        \"generation_info\": {\n",
      "          \"finish_reason\": \"stop\",\n",
      "          \"logprobs\": null\n",
      "        }\n",
      "      }\n",
      "    ]\n",
      "  ],\n",
      "  \"llm_output\": {\n",
      "    \"token_usage\": {\n",
      "      \"completion_tokens\": 15,\n",
      "      \"total_tokens\": 234,\n",
      "      \"prompt_tokens\": 219\n",
      "    },\n",
      "    \"model_name\": \"text-davinci-003\"\n",
      "  },\n",
      "  \"run\": null\n",
      "}\n",
      "\u001b[36;1m\u001b[1;3m[chain/end]\u001b[0m \u001b[1m[1:chain:ConversationalRetrievalChain > 2:chain:LLMChain] [1.46s] Exiting Chain run with output:\n",
      "\u001b[0m{\n",
      "  \"text\": \" Quanto custa o sunquíni da marca Hammerhead?\"\n",
      "}\n",
      "\u001b[32;1m\u001b[1;3m[chain/start]\u001b[0m \u001b[1m[1:chain:ConversationalRetrievalChain > 5:chain:StuffDocumentsChain] Entering Chain run with input:\n",
      "\u001b[0m[inputs]\n",
      "\u001b[32;1m\u001b[1;3m[chain/start]\u001b[0m \u001b[1m[1:chain:ConversationalRetrievalChain > 5:chain:StuffDocumentsChain > 6:chain:LLMChain] Entering Chain run with input:\n",
      "\u001b[0m{\n",
      "  \"question\": \" Quanto custa o sunquíni da marca Hammerhead?\",\n",
      "  \"context\": \"Descrição\\nPerfeito para praticar esportes aquáticos ou curtir a praia. O modelo possui ótimo ajuste ao corpo, além de garantir mobilidade.\\nO Sunquíni Hammerhead é confeccionado em tecido Xtra Life, que favorece uma secagem mais rápida e um caimento justo sobre o corpo. Modelagem ergonômica que garante segurança e conforto durante a prática de atividade e momento de lazer.\\nIndicado para: Atividades aquáticas\\nComposição:\\n85% Poliamida\\n15% Elastano\\nForro:\\n100% Poliamida\\nCuidados\\n- Após o uso enxague seu traje em agua corrente fria e limpa;\\n- Deixar secar em local com temperatura ambiente;\\n- Não guardar ou deixar diretamente na luz do sol;\\n- Não esfregar ou lavar com produtos químicos.\\n- Guardar seu traje quando estiver totalmente seco.\\n\\nDescrição\\nO Macaquinho Helanca Plus Size Hammerhead foi produzido para você que gosta de aliar conforto e beleza nos seus momentos de lazer ou em suas práticas esportivas. Ele traz recortes, cores e frisos nas laterais, que valorizam ainda mais sua silhueta.\\nIndicado para: Atividades aquáticas\\nCOMPOSIÇÃO:\\n100% POLIAMIDA\\nFORRO:\\n100% POLIAMIDA\\nInstruções de uso:\\n- Não passar.\\n- Não guardar a peça úmida.\\n- Não usar amaciantes ou produtos com alvejantes à base de cloro.\\n- Evitar o contato com superfícies ásperas.\\n- Cloro e bronzeadores podem manchar o produto.\\n- Após o uso, enxague bem a peça com água fria.\\n- A contínua exposição à luz forte do sol e água clorada podem deteriorar alguns tipos de tecidos e cores.\\n- As cores das imagens podem sofrer alterações devido a luminosidade, configurações do monitor e até mesmo a percepção do usuário.\\n\\nDescrição\\nO Macaquinho Helanca Hammerhead oferece um misto de qualidade, conforto e beleza para suas atividades físicas aquáticas e/ou momentos de lazer. Sua beleza é proveniente da sutileza das suas cores e detalhes do acabamento de sua costura. É perfeito para você que procura a união do clássico com o moderno. Produzido com os melhores tecidos de helanca que garante durabilidade e elasticidade a peça.\\nIndicado para: Atividades aquáticas\\nCOMPOSIÇÃO:\\n100% POLIAMIDA\\nFORRO:\\n100% POLIAMIDA\\nInstruções de uso:\\n- Não passar.\\n- Não guardar a peça úmida.\\n- Não usar amaciantes ou produtos com alvejantes à base de cloro.\\n- Evitar o contato com superfícies ásperas.\\n- Cloro e bronzeadores podem manchar o produto.\\n- Após o uso, enxague bem a peça com água fria.\\n- A contínua exposição à luz forte do sol e água clorada podem deteriorar alguns tipos de tecidos e cores.\\n- As cores das imagens podem sofrer alterações devido a luminosidade, configurações do monitor e até mesmo a percepção do usuário.\\n\\nDescrição\\nPara nossas pequenas grandes nadadoras, a Hammerhead traz o maio com alças finas! Fabricado em Xtra Life, o modelo possui forro interno na parte frontal e alças finas cruzadas nas costas, o que traz muito charme a peça. Muito confortável, se ajusta muito bem ao corpo e possui costuras reforçadas.\\nIndicado para: Atividades aquáticas, praia ou piscina.\\nComposição:\\n85% Poliamida\\n15% Elastano\\nForro:\\n100% Poliamida\\nCuidados\\n- Após o uso enxague seu traje em agua corrente fria e limpa;\\n- Deixar secar em local com temperatura ambiente;\\n- Não guardar ou deixar diretamente na luz do sol;\\n- Não esfregar ou lavar com produtos químicos.\\n- Guardar seu traje quando estiver totalmente seco.\"\n",
      "}\n",
      "\u001b[32;1m\u001b[1;3m[llm/start]\u001b[0m \u001b[1m[1:chain:ConversationalRetrievalChain > 5:chain:StuffDocumentsChain > 6:chain:LLMChain > 7:llm:OpenAI] Entering LLM run with input:\n",
      "\u001b[0m{\n",
      "  \"prompts\": [\n",
      "    \"Use the following pieces of context to answer the question at the end. If you don't know the answer, just say that you don't know, don't try to make up an answer.\\n\\nDescrição\\nPerfeito para praticar esportes aquáticos ou curtir a praia. O modelo possui ótimo ajuste ao corpo, além de garantir mobilidade.\\nO Sunquíni Hammerhead é confeccionado em tecido Xtra Life, que favorece uma secagem mais rápida e um caimento justo sobre o corpo. Modelagem ergonômica que garante segurança e conforto durante a prática de atividade e momento de lazer.\\nIndicado para: Atividades aquáticas\\nComposição:\\n85% Poliamida\\n15% Elastano\\nForro:\\n100% Poliamida\\nCuidados\\n- Após o uso enxague seu traje em agua corrente fria e limpa;\\n- Deixar secar em local com temperatura ambiente;\\n- Não guardar ou deixar diretamente na luz do sol;\\n- Não esfregar ou lavar com produtos químicos.\\n- Guardar seu traje quando estiver totalmente seco.\\n\\nDescrição\\nO Macaquinho Helanca Plus Size Hammerhead foi produzido para você que gosta de aliar conforto e beleza nos seus momentos de lazer ou em suas práticas esportivas. Ele traz recortes, cores e frisos nas laterais, que valorizam ainda mais sua silhueta.\\nIndicado para: Atividades aquáticas\\nCOMPOSIÇÃO:\\n100% POLIAMIDA\\nFORRO:\\n100% POLIAMIDA\\nInstruções de uso:\\n- Não passar.\\n- Não guardar a peça úmida.\\n- Não usar amaciantes ou produtos com alvejantes à base de cloro.\\n- Evitar o contato com superfícies ásperas.\\n- Cloro e bronzeadores podem manchar o produto.\\n- Após o uso, enxague bem a peça com água fria.\\n- A contínua exposição à luz forte do sol e água clorada podem deteriorar alguns tipos de tecidos e cores.\\n- As cores das imagens podem sofrer alterações devido a luminosidade, configurações do monitor e até mesmo a percepção do usuário.\\n\\nDescrição\\nO Macaquinho Helanca Hammerhead oferece um misto de qualidade, conforto e beleza para suas atividades físicas aquáticas e/ou momentos de lazer. Sua beleza é proveniente da sutileza das suas cores e detalhes do acabamento de sua costura. É perfeito para você que procura a união do clássico com o moderno. Produzido com os melhores tecidos de helanca que garante durabilidade e elasticidade a peça.\\nIndicado para: Atividades aquáticas\\nCOMPOSIÇÃO:\\n100% POLIAMIDA\\nFORRO:\\n100% POLIAMIDA\\nInstruções de uso:\\n- Não passar.\\n- Não guardar a peça úmida.\\n- Não usar amaciantes ou produtos com alvejantes à base de cloro.\\n- Evitar o contato com superfícies ásperas.\\n- Cloro e bronzeadores podem manchar o produto.\\n- Após o uso, enxague bem a peça com água fria.\\n- A contínua exposição à luz forte do sol e água clorada podem deteriorar alguns tipos de tecidos e cores.\\n- As cores das imagens podem sofrer alterações devido a luminosidade, configurações do monitor e até mesmo a percepção do usuário.\\n\\nDescrição\\nPara nossas pequenas grandes nadadoras, a Hammerhead traz o maio com alças finas! Fabricado em Xtra Life, o modelo possui forro interno na parte frontal e alças finas cruzadas nas costas, o que traz muito charme a peça. Muito confortável, se ajusta muito bem ao corpo e possui costuras reforçadas.\\nIndicado para: Atividades aquáticas, praia ou piscina.\\nComposição:\\n85% Poliamida\\n15% Elastano\\nForro:\\n100% Poliamida\\nCuidados\\n- Após o uso enxague seu traje em agua corrente fria e limpa;\\n- Deixar secar em local com temperatura ambiente;\\n- Não guardar ou deixar diretamente na luz do sol;\\n- Não esfregar ou lavar com produtos químicos.\\n- Guardar seu traje quando estiver totalmente seco.\\n\\nQuestion:  Quanto custa o sunquíni da marca Hammerhead?\\nHelpful Answer:\"\n",
      "  ]\n",
      "}\n",
      "\u001b[36;1m\u001b[1;3m[llm/end]\u001b[0m \u001b[1m[1:chain:ConversationalRetrievalChain > 5:chain:StuffDocumentsChain > 6:chain:LLMChain > 7:llm:OpenAI] [889.5ms] Exiting LLM run with output:\n",
      "\u001b[0m{\n",
      "  \"generations\": [\n",
      "    [\n",
      "      {\n",
      "        \"text\": \" Não sei.\",\n",
      "        \"generation_info\": {\n",
      "          \"finish_reason\": \"stop\",\n",
      "          \"logprobs\": null\n",
      "        }\n",
      "      }\n",
      "    ]\n",
      "  ],\n",
      "  \"llm_output\": {\n",
      "    \"token_usage\": {\n",
      "      \"completion_tokens\": 5,\n",
      "      \"total_tokens\": 1370,\n",
      "      \"prompt_tokens\": 1365\n",
      "    },\n",
      "    \"model_name\": \"text-davinci-003\"\n",
      "  },\n",
      "  \"run\": null\n",
      "}\n",
      "\u001b[36;1m\u001b[1;3m[chain/end]\u001b[0m \u001b[1m[1:chain:ConversationalRetrievalChain > 5:chain:StuffDocumentsChain > 6:chain:LLMChain] [892.394ms] Exiting Chain run with output:\n",
      "\u001b[0m{\n",
      "  \"text\": \" Não sei.\"\n",
      "}\n",
      "\u001b[36;1m\u001b[1;3m[chain/end]\u001b[0m \u001b[1m[1:chain:ConversationalRetrievalChain > 5:chain:StuffDocumentsChain] [895.687ms] Exiting Chain run with output:\n",
      "\u001b[0m{\n",
      "  \"output_text\": \" Não sei.\"\n",
      "}\n",
      "\u001b[36;1m\u001b[1;3m[chain/end]\u001b[0m \u001b[1m[1:chain:ConversationalRetrievalChain] [2.84s] Exiting Chain run with output:\n",
      "\u001b[0m{\n",
      "  \"answer\": \" Não sei.\"\n",
      "}\n"
     ]
    },
    {
     "data": {
      "text/plain": [
       "' Não sei.'"
      ]
     },
     "execution_count": 334,
     "metadata": {},
     "output_type": "execute_result"
    }
   ],
   "source": [
    "langchain.debug = True\n",
    "result = qa({\"question\": 'Quanto custa o sunquíni hammerhead?'})\n",
    "result['answer']"
   ]
  },
  {
   "cell_type": "code",
   "execution_count": null,
   "id": "db89f6cf-8be3-4c9a-b792-6e9c8eed7009",
   "metadata": {},
   "outputs": [],
   "source": []
  },
  {
   "cell_type": "code",
   "execution_count": null,
   "id": "623110ab-7d3f-41b2-bc5c-2c8a124d244b",
   "metadata": {},
   "outputs": [],
   "source": []
  },
  {
   "cell_type": "code",
   "execution_count": null,
   "id": "b727e3da-003a-47b8-9ef2-bb16036a129d",
   "metadata": {},
   "outputs": [],
   "source": []
  },
  {
   "cell_type": "code",
   "execution_count": null,
   "id": "b63241ca-d3b5-4d82-b64f-6d3abffdb0c6",
   "metadata": {},
   "outputs": [],
   "source": []
  },
  {
   "cell_type": "code",
   "execution_count": null,
   "id": "6ed9b754-972e-4033-be66-67446d31a1a3",
   "metadata": {},
   "outputs": [],
   "source": []
  },
  {
   "cell_type": "code",
   "execution_count": null,
   "id": "40101f5d-0dd2-4d0e-820a-3c30d4f49a10",
   "metadata": {},
   "outputs": [],
   "source": []
  },
  {
   "cell_type": "code",
   "execution_count": 242,
   "id": "0c948b1f-3dd6-4f3e-8921-ee99f76a9685",
   "metadata": {
    "tags": []
   },
   "outputs": [
    {
     "data": {
      "text/plain": [
       "\u001b[0;31mSignature:\u001b[0m\n",
       "\u001b[0mConversationalRetrievalChain\u001b[0m\u001b[0;34m.\u001b[0m\u001b[0mfrom_llm\u001b[0m\u001b[0;34m(\u001b[0m\u001b[0;34m\u001b[0m\n",
       "\u001b[0;34m\u001b[0m    \u001b[0mllm\u001b[0m\u001b[0;34m:\u001b[0m \u001b[0;34m'BaseLanguageModel'\u001b[0m\u001b[0;34m,\u001b[0m\u001b[0;34m\u001b[0m\n",
       "\u001b[0;34m\u001b[0m    \u001b[0mretriever\u001b[0m\u001b[0;34m:\u001b[0m \u001b[0;34m'BaseRetriever'\u001b[0m\u001b[0;34m,\u001b[0m\u001b[0;34m\u001b[0m\n",
       "\u001b[0;34m\u001b[0m    \u001b[0mcondense_question_prompt\u001b[0m\u001b[0;34m:\u001b[0m \u001b[0;34m'BasePromptTemplate'\u001b[0m \u001b[0;34m=\u001b[0m \u001b[0mPromptTemplate\u001b[0m\u001b[0;34m(\u001b[0m\u001b[0minput_variables\u001b[0m\u001b[0;34m=\u001b[0m\u001b[0;34m[\u001b[0m\u001b[0;34m'chat_history'\u001b[0m\u001b[0;34m,\u001b[0m \u001b[0;34m'question'\u001b[0m\u001b[0;34m]\u001b[0m\u001b[0;34m,\u001b[0m \u001b[0moutput_parser\u001b[0m\u001b[0;34m=\u001b[0m\u001b[0;32mNone\u001b[0m\u001b[0;34m,\u001b[0m \u001b[0mpartial_variables\u001b[0m\u001b[0;34m=\u001b[0m\u001b[0;34m{\u001b[0m\u001b[0;34m}\u001b[0m\u001b[0;34m,\u001b[0m \u001b[0mtemplate\u001b[0m\u001b[0;34m=\u001b[0m\u001b[0;34m'Given the following conversation and a follow up question, rephrase the follow up question to be a standalone question, in its original language.\\n\\nChat History:\\n{chat_history}\\nFollow Up Input: {question}\\nStandalone question:'\u001b[0m\u001b[0;34m,\u001b[0m \u001b[0mtemplate_format\u001b[0m\u001b[0;34m=\u001b[0m\u001b[0;34m'f-string'\u001b[0m\u001b[0;34m,\u001b[0m \u001b[0mvalidate_template\u001b[0m\u001b[0;34m=\u001b[0m\u001b[0;32mTrue\u001b[0m\u001b[0;34m)\u001b[0m\u001b[0;34m,\u001b[0m\u001b[0;34m\u001b[0m\n",
       "\u001b[0;34m\u001b[0m    \u001b[0mchain_type\u001b[0m\u001b[0;34m:\u001b[0m \u001b[0;34m'str'\u001b[0m \u001b[0;34m=\u001b[0m \u001b[0;34m'stuff'\u001b[0m\u001b[0;34m,\u001b[0m\u001b[0;34m\u001b[0m\n",
       "\u001b[0;34m\u001b[0m    \u001b[0mverbose\u001b[0m\u001b[0;34m:\u001b[0m \u001b[0;34m'bool'\u001b[0m \u001b[0;34m=\u001b[0m \u001b[0;32mFalse\u001b[0m\u001b[0;34m,\u001b[0m\u001b[0;34m\u001b[0m\n",
       "\u001b[0;34m\u001b[0m    \u001b[0mcondense_question_llm\u001b[0m\u001b[0;34m:\u001b[0m \u001b[0;34m'Optional[BaseLanguageModel]'\u001b[0m \u001b[0;34m=\u001b[0m \u001b[0;32mNone\u001b[0m\u001b[0;34m,\u001b[0m\u001b[0;34m\u001b[0m\n",
       "\u001b[0;34m\u001b[0m    \u001b[0mcombine_docs_chain_kwargs\u001b[0m\u001b[0;34m:\u001b[0m \u001b[0;34m'Optional[Dict]'\u001b[0m \u001b[0;34m=\u001b[0m \u001b[0;32mNone\u001b[0m\u001b[0;34m,\u001b[0m\u001b[0;34m\u001b[0m\n",
       "\u001b[0;34m\u001b[0m    \u001b[0mcallbacks\u001b[0m\u001b[0;34m:\u001b[0m \u001b[0;34m'Callbacks'\u001b[0m \u001b[0;34m=\u001b[0m \u001b[0;32mNone\u001b[0m\u001b[0;34m,\u001b[0m\u001b[0;34m\u001b[0m\n",
       "\u001b[0;34m\u001b[0m    \u001b[0;34m**\u001b[0m\u001b[0mkwargs\u001b[0m\u001b[0;34m:\u001b[0m \u001b[0;34m'Any'\u001b[0m\u001b[0;34m,\u001b[0m\u001b[0;34m\u001b[0m\n",
       "\u001b[0;34m\u001b[0m\u001b[0;34m)\u001b[0m \u001b[0;34m->\u001b[0m \u001b[0;34m'BaseConversationalRetrievalChain'\u001b[0m\u001b[0;34m\u001b[0m\u001b[0;34m\u001b[0m\u001b[0m\n",
       "\u001b[0;31mDocstring:\u001b[0m\n",
       "Convenience method to load chain from LLM and retriever.\n",
       "\n",
       "This provides some logic to create the `question_generator` chain\n",
       "as well as the combine_docs_chain.\n",
       "\n",
       "Args:\n",
       "    llm: The default language model to use at every part of this chain\n",
       "        (eg in both the question generation and the answering)\n",
       "    retriever: The retriever to use to fetch relevant documents from.\n",
       "    condense_question_prompt: The prompt to use to condense the chat history\n",
       "        and new question into a standalone question.\n",
       "    chain_type: The chain type to use to create the combine_docs_chain, will\n",
       "        be sent to `load_qa_chain`.\n",
       "    verbose: Verbosity flag for logging to stdout.\n",
       "    condense_question_llm: The language model to use for condensing the chat\n",
       "        history and new question into a standalone question. If none is\n",
       "        provided, will default to `llm`.\n",
       "    combine_docs_chain_kwargs: Parameters to pass as kwargs to `load_qa_chain`\n",
       "        when constructing the combine_docs_chain.\n",
       "    callbacks: Callbacks to pass to all subchains.\n",
       "    **kwargs: Additional parameters to pass when initializing\n",
       "        ConversationalRetrievalChain\n",
       "\u001b[0;31mFile:\u001b[0m      /opt/conda/lib/python3.10/site-packages/langchain/chains/conversational_retrieval/base.py\n",
       "\u001b[0;31mType:\u001b[0m      method"
      ]
     },
     "metadata": {},
     "output_type": "display_data"
    }
   ],
   "source": [
    "ConversationalRetrievalChain.from_llm?"
   ]
  },
  {
   "cell_type": "code",
   "execution_count": 239,
   "id": "bfec0dba-d2ed-44a1-860c-7e838a2acefd",
   "metadata": {
    "tags": []
   },
   "outputs": [
    {
     "data": {
      "text/plain": [
       "VectorStoreRetriever(tags=None, metadata=None, vectorstore=<langchain.vectorstores.faiss.FAISS object at 0xffff4b3f86a0>, search_type='similarity', search_kwargs={})"
      ]
     },
     "execution_count": 239,
     "metadata": {},
     "output_type": "execute_result"
    }
   ],
   "source": [
    "vectorstore.as_retriever(top_k=10)"
   ]
  },
  {
   "cell_type": "code",
   "execution_count": 237,
   "id": "fe29cae7-71f9-4a4e-9b73-edaed2f8cfb6",
   "metadata": {
    "tags": []
   },
   "outputs": [
    {
     "data": {
      "text/plain": [
       "\u001b[0;31mInit signature:\u001b[0m\n",
       "\u001b[0mConversationalRetrievalChain\u001b[0m\u001b[0;34m(\u001b[0m\u001b[0;34m\u001b[0m\n",
       "\u001b[0;34m\u001b[0m    \u001b[0;34m*\u001b[0m\u001b[0;34m,\u001b[0m\u001b[0;34m\u001b[0m\n",
       "\u001b[0;34m\u001b[0m    \u001b[0mmemory\u001b[0m\u001b[0;34m:\u001b[0m \u001b[0mOptional\u001b[0m\u001b[0;34m[\u001b[0m\u001b[0mlangchain\u001b[0m\u001b[0;34m.\u001b[0m\u001b[0mschema\u001b[0m\u001b[0;34m.\u001b[0m\u001b[0mmemory\u001b[0m\u001b[0;34m.\u001b[0m\u001b[0mBaseMemory\u001b[0m\u001b[0;34m]\u001b[0m \u001b[0;34m=\u001b[0m \u001b[0;32mNone\u001b[0m\u001b[0;34m,\u001b[0m\u001b[0;34m\u001b[0m\n",
       "\u001b[0;34m\u001b[0m    \u001b[0mcallbacks\u001b[0m\u001b[0;34m:\u001b[0m \u001b[0mUnion\u001b[0m\u001b[0;34m[\u001b[0m\u001b[0mList\u001b[0m\u001b[0;34m[\u001b[0m\u001b[0mlangchain\u001b[0m\u001b[0;34m.\u001b[0m\u001b[0mcallbacks\u001b[0m\u001b[0;34m.\u001b[0m\u001b[0mbase\u001b[0m\u001b[0;34m.\u001b[0m\u001b[0mBaseCallbackHandler\u001b[0m\u001b[0;34m]\u001b[0m\u001b[0;34m,\u001b[0m \u001b[0mlangchain\u001b[0m\u001b[0;34m.\u001b[0m\u001b[0mcallbacks\u001b[0m\u001b[0;34m.\u001b[0m\u001b[0mbase\u001b[0m\u001b[0;34m.\u001b[0m\u001b[0mBaseCallbackManager\u001b[0m\u001b[0;34m,\u001b[0m \u001b[0mNoneType\u001b[0m\u001b[0;34m]\u001b[0m \u001b[0;34m=\u001b[0m \u001b[0;32mNone\u001b[0m\u001b[0;34m,\u001b[0m\u001b[0;34m\u001b[0m\n",
       "\u001b[0;34m\u001b[0m    \u001b[0mcallback_manager\u001b[0m\u001b[0;34m:\u001b[0m \u001b[0mOptional\u001b[0m\u001b[0;34m[\u001b[0m\u001b[0mlangchain\u001b[0m\u001b[0;34m.\u001b[0m\u001b[0mcallbacks\u001b[0m\u001b[0;34m.\u001b[0m\u001b[0mbase\u001b[0m\u001b[0;34m.\u001b[0m\u001b[0mBaseCallbackManager\u001b[0m\u001b[0;34m]\u001b[0m \u001b[0;34m=\u001b[0m \u001b[0;32mNone\u001b[0m\u001b[0;34m,\u001b[0m\u001b[0;34m\u001b[0m\n",
       "\u001b[0;34m\u001b[0m    \u001b[0mverbose\u001b[0m\u001b[0;34m:\u001b[0m \u001b[0mbool\u001b[0m \u001b[0;34m=\u001b[0m \u001b[0;32mNone\u001b[0m\u001b[0;34m,\u001b[0m\u001b[0;34m\u001b[0m\n",
       "\u001b[0;34m\u001b[0m    \u001b[0mtags\u001b[0m\u001b[0;34m:\u001b[0m \u001b[0mOptional\u001b[0m\u001b[0;34m[\u001b[0m\u001b[0mList\u001b[0m\u001b[0;34m[\u001b[0m\u001b[0mstr\u001b[0m\u001b[0;34m]\u001b[0m\u001b[0;34m]\u001b[0m \u001b[0;34m=\u001b[0m \u001b[0;32mNone\u001b[0m\u001b[0;34m,\u001b[0m\u001b[0;34m\u001b[0m\n",
       "\u001b[0;34m\u001b[0m    \u001b[0mmetadata\u001b[0m\u001b[0;34m:\u001b[0m \u001b[0mOptional\u001b[0m\u001b[0;34m[\u001b[0m\u001b[0mDict\u001b[0m\u001b[0;34m[\u001b[0m\u001b[0mstr\u001b[0m\u001b[0;34m,\u001b[0m \u001b[0mAny\u001b[0m\u001b[0;34m]\u001b[0m\u001b[0;34m]\u001b[0m \u001b[0;34m=\u001b[0m \u001b[0;32mNone\u001b[0m\u001b[0;34m,\u001b[0m\u001b[0;34m\u001b[0m\n",
       "\u001b[0;34m\u001b[0m    \u001b[0mcombine_docs_chain\u001b[0m\u001b[0;34m:\u001b[0m \u001b[0mlangchain\u001b[0m\u001b[0;34m.\u001b[0m\u001b[0mchains\u001b[0m\u001b[0;34m.\u001b[0m\u001b[0mcombine_documents\u001b[0m\u001b[0;34m.\u001b[0m\u001b[0mbase\u001b[0m\u001b[0;34m.\u001b[0m\u001b[0mBaseCombineDocumentsChain\u001b[0m\u001b[0;34m,\u001b[0m\u001b[0;34m\u001b[0m\n",
       "\u001b[0;34m\u001b[0m    \u001b[0mquestion_generator\u001b[0m\u001b[0;34m:\u001b[0m \u001b[0mlangchain\u001b[0m\u001b[0;34m.\u001b[0m\u001b[0mchains\u001b[0m\u001b[0;34m.\u001b[0m\u001b[0mllm\u001b[0m\u001b[0;34m.\u001b[0m\u001b[0mLLMChain\u001b[0m\u001b[0;34m,\u001b[0m\u001b[0;34m\u001b[0m\n",
       "\u001b[0;34m\u001b[0m    \u001b[0moutput_key\u001b[0m\u001b[0;34m:\u001b[0m \u001b[0mstr\u001b[0m \u001b[0;34m=\u001b[0m \u001b[0;34m'answer'\u001b[0m\u001b[0;34m,\u001b[0m\u001b[0;34m\u001b[0m\n",
       "\u001b[0;34m\u001b[0m    \u001b[0mrephrase_question\u001b[0m\u001b[0;34m:\u001b[0m \u001b[0mbool\u001b[0m \u001b[0;34m=\u001b[0m \u001b[0;32mTrue\u001b[0m\u001b[0;34m,\u001b[0m\u001b[0;34m\u001b[0m\n",
       "\u001b[0;34m\u001b[0m    \u001b[0mreturn_source_documents\u001b[0m\u001b[0;34m:\u001b[0m \u001b[0mbool\u001b[0m \u001b[0;34m=\u001b[0m \u001b[0;32mFalse\u001b[0m\u001b[0;34m,\u001b[0m\u001b[0;34m\u001b[0m\n",
       "\u001b[0;34m\u001b[0m    \u001b[0mreturn_generated_question\u001b[0m\u001b[0;34m:\u001b[0m \u001b[0mbool\u001b[0m \u001b[0;34m=\u001b[0m \u001b[0;32mFalse\u001b[0m\u001b[0;34m,\u001b[0m\u001b[0;34m\u001b[0m\n",
       "\u001b[0;34m\u001b[0m    \u001b[0mget_chat_history\u001b[0m\u001b[0;34m:\u001b[0m \u001b[0mOptional\u001b[0m\u001b[0;34m[\u001b[0m\u001b[0mCallable\u001b[0m\u001b[0;34m[\u001b[0m\u001b[0;34m[\u001b[0m\u001b[0mUnion\u001b[0m\u001b[0;34m[\u001b[0m\u001b[0mTuple\u001b[0m\u001b[0;34m[\u001b[0m\u001b[0mstr\u001b[0m\u001b[0;34m,\u001b[0m \u001b[0mstr\u001b[0m\u001b[0;34m]\u001b[0m\u001b[0;34m,\u001b[0m \u001b[0mlangchain\u001b[0m\u001b[0;34m.\u001b[0m\u001b[0mschema\u001b[0m\u001b[0;34m.\u001b[0m\u001b[0mmessages\u001b[0m\u001b[0;34m.\u001b[0m\u001b[0mBaseMessage\u001b[0m\u001b[0;34m]\u001b[0m\u001b[0;34m]\u001b[0m\u001b[0;34m,\u001b[0m \u001b[0mstr\u001b[0m\u001b[0;34m]\u001b[0m\u001b[0;34m]\u001b[0m \u001b[0;34m=\u001b[0m \u001b[0;32mNone\u001b[0m\u001b[0;34m,\u001b[0m\u001b[0;34m\u001b[0m\n",
       "\u001b[0;34m\u001b[0m    \u001b[0mretriever\u001b[0m\u001b[0;34m:\u001b[0m \u001b[0mlangchain\u001b[0m\u001b[0;34m.\u001b[0m\u001b[0mschema\u001b[0m\u001b[0;34m.\u001b[0m\u001b[0mretriever\u001b[0m\u001b[0;34m.\u001b[0m\u001b[0mBaseRetriever\u001b[0m\u001b[0;34m,\u001b[0m\u001b[0;34m\u001b[0m\n",
       "\u001b[0;34m\u001b[0m    \u001b[0mmax_tokens_limit\u001b[0m\u001b[0;34m:\u001b[0m \u001b[0mOptional\u001b[0m\u001b[0;34m[\u001b[0m\u001b[0mint\u001b[0m\u001b[0;34m]\u001b[0m \u001b[0;34m=\u001b[0m \u001b[0;32mNone\u001b[0m\u001b[0;34m,\u001b[0m\u001b[0;34m\u001b[0m\n",
       "\u001b[0;34m\u001b[0m\u001b[0;34m)\u001b[0m \u001b[0;34m->\u001b[0m \u001b[0;32mNone\u001b[0m\u001b[0;34m\u001b[0m\u001b[0;34m\u001b[0m\u001b[0m\n",
       "\u001b[0;31mDocstring:\u001b[0m     \n",
       "Chain for having a conversation based on retrieved documents.\n",
       "\n",
       "This chain takes in chat history (a list of messages) and new questions,\n",
       "and then returns an answer to that question.\n",
       "The algorithm for this chain consists of three parts:\n",
       "\n",
       "1. Use the chat history and the new question to create a \"standalone question\".\n",
       "This is done so that this question can be passed into the retrieval step to fetch\n",
       "relevant documents. If only the new question was passed in, then relevant context\n",
       "may be lacking. If the whole conversation was passed into retrieval, there may\n",
       "be unnecessary information there that would distract from retrieval.\n",
       "\n",
       "2. This new question is passed to the retriever and relevant documents are\n",
       "returned.\n",
       "\n",
       "3. The retrieved documents are passed to an LLM along with either the new question\n",
       "(default behavior) or the original question and chat history to generate a final\n",
       "response.\n",
       "\n",
       "Example:\n",
       "    .. code-block:: python\n",
       "\n",
       "        from langchain.chains import (\n",
       "            StuffDocumentsChain, LLMChain, ConversationalRetrievalChain\n",
       "        )\n",
       "        from langchain.prompts import PromptTemplate\n",
       "        from langchain.llms import OpenAI\n",
       "\n",
       "        combine_docs_chain = StuffDocumentsChain(...)\n",
       "        vectorstore = ...\n",
       "        retriever = vectorstore.as_retriever()\n",
       "\n",
       "        # This controls how the standalone question is generated.\n",
       "        # Should take `chat_history` and `question` as input variables.\n",
       "        template = (\n",
       "            \"Combine the chat history and follow up question into \"\n",
       "            \"a standalone question. Chat History: {chat_history}\"\n",
       "            \"Follow up question: {question}\"\n",
       "        )\n",
       "        prompt = PromptTemplate.from_template(template)\n",
       "        llm = OpenAI()\n",
       "        llm_chain = LLMChain(llm=llm, prompt=prompt)\n",
       "        chain = ConversationalRetrievalChain(\n",
       "            combine_docs_chain=combine_docs_chain,\n",
       "            retriever=retriever,\n",
       "            question_generator=question_generator,\n",
       "        )\n",
       "\u001b[0;31mInit docstring:\u001b[0m\n",
       "Create a new model by parsing and validating input data from keyword arguments.\n",
       "\n",
       "Raises ValidationError if the input data cannot be parsed to form a valid model.\n",
       "\u001b[0;31mFile:\u001b[0m           /opt/conda/lib/python3.10/site-packages/langchain/chains/conversational_retrieval/base.py\n",
       "\u001b[0;31mType:\u001b[0m           ModelMetaclass\n",
       "\u001b[0;31mSubclasses:\u001b[0m     "
      ]
     },
     "metadata": {},
     "output_type": "display_data"
    }
   ],
   "source": [
    "ConversationalRetrievalChain?"
   ]
  },
  {
   "cell_type": "code",
   "execution_count": null,
   "id": "f814267d-cb09-4777-93cf-0508fccae763",
   "metadata": {},
   "outputs": [],
   "source": []
  },
  {
   "cell_type": "code",
   "execution_count": null,
   "id": "ad5e030a-33f7-4050-8946-8362acc54270",
   "metadata": {},
   "outputs": [],
   "source": []
  },
  {
   "cell_type": "code",
   "execution_count": null,
   "id": "23c1cec6-24f9-459d-8ab1-6d58cfc93542",
   "metadata": {},
   "outputs": [],
   "source": []
  },
  {
   "cell_type": "code",
   "execution_count": null,
   "id": "2cfc44e8-6724-4831-bc29-e48afe0794a4",
   "metadata": {},
   "outputs": [],
   "source": []
  },
  {
   "cell_type": "code",
   "execution_count": null,
   "id": "8e0b9c8a-782e-4b0d-86e7-13a719d62a46",
   "metadata": {},
   "outputs": [],
   "source": []
  },
  {
   "cell_type": "code",
   "execution_count": null,
   "id": "f2d40e8f-7097-4c76-9065-3f332d3f13f0",
   "metadata": {},
   "outputs": [],
   "source": []
  },
  {
   "cell_type": "code",
   "execution_count": null,
   "id": "e4c8efe2-8ef8-4b70-877f-c1e1b2f3e97c",
   "metadata": {},
   "outputs": [],
   "source": []
  },
  {
   "cell_type": "code",
   "execution_count": 219,
   "id": "23a4faba-2cc3-4a1d-896e-30fc6e52d9f3",
   "metadata": {
    "tags": []
   },
   "outputs": [],
   "source": [
    "from langchain.memory import ConversationBufferMemory, ChatMessageHistory"
   ]
  },
  {
   "cell_type": "code",
   "execution_count": 220,
   "id": "6f1d6967-e93e-474d-8f49-c9f366b7741c",
   "metadata": {
    "tags": []
   },
   "outputs": [],
   "source": [
    "from langchain.schema.messages import SystemMessage"
   ]
  },
  {
   "cell_type": "code",
   "execution_count": 221,
   "id": "3cd2abc3-c58a-4433-8e42-1dfd88837a4f",
   "metadata": {
    "tags": []
   },
   "outputs": [
    {
     "data": {
      "text/plain": [
       "(langchain.vectorstores.faiss.FAISS, langchain.vectorstores.faiss.FAISS)"
      ]
     },
     "execution_count": 221,
     "metadata": {},
     "output_type": "execute_result"
    }
   ],
   "source": [
    "# first we have the database \n",
    "type(db), type(vectorstore)"
   ]
  },
  {
   "cell_type": "code",
   "execution_count": 222,
   "id": "1d9e4303-1cf2-4f90-88a3-5b177c0b4a2f",
   "metadata": {
    "tags": []
   },
   "outputs": [
    {
     "data": {
      "text/plain": [
       "10"
      ]
     },
     "execution_count": 222,
     "metadata": {},
     "output_type": "execute_result"
    }
   ],
   "source": [
    "docs = db.similarity_search('Quais óculos de natação voces possuem?', k=10)\n",
    "len(docs)"
   ]
  },
  {
   "cell_type": "code",
   "execution_count": 223,
   "id": "6450fe63-98b9-44f0-a31e-c9f95c9ad933",
   "metadata": {
    "tags": []
   },
   "outputs": [],
   "source": [
    "retriever = db.as_retriever()"
   ]
  },
  {
   "cell_type": "code",
   "execution_count": 224,
   "id": "ba6bff61-7020-495f-ad2b-910a23391f7e",
   "metadata": {
    "tags": []
   },
   "outputs": [],
   "source": [
    "llm = ChatOpenAI(temperature = 0.0)\n"
   ]
  },
  {
   "cell_type": "code",
   "execution_count": 225,
   "id": "0b7d04ef-fb04-458e-aaac-3e8a38943f7b",
   "metadata": {
    "tags": []
   },
   "outputs": [],
   "source": [
    "memory = ChatMessageHistory()"
   ]
  },
  {
   "cell_type": "code",
   "execution_count": 226,
   "id": "c48bb354-34b3-46d1-9848-f48ed5880604",
   "metadata": {
    "tags": []
   },
   "outputs": [],
   "source": [
    "conversationmemory = ConversationBufferMemory()"
   ]
  },
  {
   "cell_type": "code",
   "execution_count": 227,
   "id": "e438312f-a3b6-48d0-8c77-7e0aff1aec4b",
   "metadata": {
    "tags": []
   },
   "outputs": [],
   "source": [
    "# conversationmemory.chat_memory.add_user_message('Olá')"
   ]
  },
  {
   "cell_type": "code",
   "execution_count": 228,
   "id": "dcb208cc-cf49-4aca-b21e-8e0b185b41b8",
   "metadata": {
    "tags": []
   },
   "outputs": [],
   "source": [
    "# conversationmemory.chat_memory.add_ai_message('Olá, eu sou a inteligência artificial da HammerHead. Em que posso ajudá-lo')"
   ]
  },
  {
   "cell_type": "code",
   "execution_count": 229,
   "id": "adb40f38-2859-4274-80a4-e84d6fdfd22f",
   "metadata": {
    "tags": []
   },
   "outputs": [],
   "source": [
    "conversationmemory.clear()\n",
    "s = 'Você vai atuar como um assistente virtual da marca HammerHead. Inicie a conversa '\n",
    "s += 'informand o nome da marca (HammerHead) e explicando que você está disponível para tirar dúvidas e dar sugestões sobre produtos da marca. '\n",
    "s += 'Responda sempre de forma cordial e educada. '\n",
    "\n",
    "conversationmemory.chat_memory.add_message(SystemMessage(content=s)) \n",
    "                                                         "
   ]
  },
  {
   "cell_type": "code",
   "execution_count": 230,
   "id": "cf0d356f-2e86-4b47-94f7-b7c294fc12a9",
   "metadata": {
    "tags": []
   },
   "outputs": [
    {
     "data": {
      "text/plain": [
       "'System: Você vai atuar como um assistente virtual da marca HammerHead. Inicie a conversa informand o nome da marca (HammerHead) e explicando que você está disponível para tirar dúvidas e dar sugestões sobre produtos da marca. Responda sempre de forma cordial e educada. '"
      ]
     },
     "execution_count": 230,
     "metadata": {},
     "output_type": "execute_result"
    }
   ],
   "source": [
    "conversationmemory.buffer"
   ]
  },
  {
   "cell_type": "code",
   "execution_count": 231,
   "id": "83f59eb7-abba-4b43-96ab-7ad2249997ca",
   "metadata": {
    "tags": []
   },
   "outputs": [
    {
     "ename": "ValidationError",
     "evalue": "1 validation error for RetrievalQA\ntop_k\n  extra fields not permitted (type=value_error.extra)",
     "output_type": "error",
     "traceback": [
      "\u001b[0;31m---------------------------------------------------------------------------\u001b[0m",
      "\u001b[0;31mValidationError\u001b[0m                           Traceback (most recent call last)",
      "Cell \u001b[0;32mIn[231], line 1\u001b[0m\n\u001b[0;32m----> 1\u001b[0m qa \u001b[38;5;241m=\u001b[39m \u001b[43mRetrievalQA\u001b[49m\u001b[38;5;241;43m.\u001b[39;49m\u001b[43mfrom_chain_type\u001b[49m\u001b[43m(\u001b[49m\n\u001b[1;32m      2\u001b[0m \u001b[43m    \u001b[49m\u001b[43mllm\u001b[49m\u001b[38;5;241;43m=\u001b[39;49m\u001b[43mllm\u001b[49m\u001b[43m,\u001b[49m\n\u001b[1;32m      3\u001b[0m \u001b[43m    \u001b[49m\u001b[43mchain_type\u001b[49m\u001b[38;5;241;43m=\u001b[39;49m\u001b[38;5;124;43m'\u001b[39;49m\u001b[38;5;124;43mstuff\u001b[39;49m\u001b[38;5;124;43m'\u001b[39;49m\u001b[43m,\u001b[49m\n\u001b[1;32m      4\u001b[0m \u001b[43m    \u001b[49m\u001b[43mretriever\u001b[49m\u001b[38;5;241;43m=\u001b[39;49m\u001b[43mretriever\u001b[49m\u001b[43m,\u001b[49m\n\u001b[1;32m      5\u001b[0m \u001b[43m    \u001b[49m\u001b[43mverbose\u001b[49m\u001b[38;5;241;43m=\u001b[39;49m\u001b[38;5;28;43;01mTrue\u001b[39;49;00m\u001b[43m,\u001b[49m\n\u001b[1;32m      6\u001b[0m \u001b[43m    \u001b[49m\u001b[43mmemory\u001b[49m\u001b[38;5;241;43m=\u001b[39;49m\u001b[43mconversationmemory\u001b[49m\u001b[43m,\u001b[49m\n\u001b[1;32m      7\u001b[0m \u001b[43m    \u001b[49m\u001b[43mtop_k\u001b[49m\u001b[38;5;241;43m=\u001b[39;49m\u001b[38;5;241;43m10\u001b[39;49m\n\u001b[1;32m      8\u001b[0m \u001b[43m)\u001b[49m\n",
      "File \u001b[0;32m/opt/conda/lib/python3.10/site-packages/langchain/chains/retrieval_qa/base.py:95\u001b[0m, in \u001b[0;36mBaseRetrievalQA.from_chain_type\u001b[0;34m(cls, llm, chain_type, chain_type_kwargs, **kwargs)\u001b[0m\n\u001b[1;32m     91\u001b[0m _chain_type_kwargs \u001b[38;5;241m=\u001b[39m chain_type_kwargs \u001b[38;5;129;01mor\u001b[39;00m {}\n\u001b[1;32m     92\u001b[0m combine_documents_chain \u001b[38;5;241m=\u001b[39m load_qa_chain(\n\u001b[1;32m     93\u001b[0m     llm, chain_type\u001b[38;5;241m=\u001b[39mchain_type, \u001b[38;5;241m*\u001b[39m\u001b[38;5;241m*\u001b[39m_chain_type_kwargs\n\u001b[1;32m     94\u001b[0m )\n\u001b[0;32m---> 95\u001b[0m \u001b[38;5;28;01mreturn\u001b[39;00m \u001b[38;5;28;43mcls\u001b[39;49m\u001b[43m(\u001b[49m\u001b[43mcombine_documents_chain\u001b[49m\u001b[38;5;241;43m=\u001b[39;49m\u001b[43mcombine_documents_chain\u001b[49m\u001b[43m,\u001b[49m\u001b[43m \u001b[49m\u001b[38;5;241;43m*\u001b[39;49m\u001b[38;5;241;43m*\u001b[39;49m\u001b[43mkwargs\u001b[49m\u001b[43m)\u001b[49m\n",
      "File \u001b[0;32m/opt/conda/lib/python3.10/site-packages/langchain/load/serializable.py:74\u001b[0m, in \u001b[0;36mSerializable.__init__\u001b[0;34m(self, **kwargs)\u001b[0m\n\u001b[1;32m     73\u001b[0m \u001b[38;5;28;01mdef\u001b[39;00m \u001b[38;5;21m__init__\u001b[39m(\u001b[38;5;28mself\u001b[39m, \u001b[38;5;241m*\u001b[39m\u001b[38;5;241m*\u001b[39mkwargs: Any) \u001b[38;5;241m-\u001b[39m\u001b[38;5;241m>\u001b[39m \u001b[38;5;28;01mNone\u001b[39;00m:\n\u001b[0;32m---> 74\u001b[0m     \u001b[38;5;28;43msuper\u001b[39;49m\u001b[43m(\u001b[49m\u001b[43m)\u001b[49m\u001b[38;5;241;43m.\u001b[39;49m\u001b[38;5;21;43m__init__\u001b[39;49m\u001b[43m(\u001b[49m\u001b[38;5;241;43m*\u001b[39;49m\u001b[38;5;241;43m*\u001b[39;49m\u001b[43mkwargs\u001b[49m\u001b[43m)\u001b[49m\n\u001b[1;32m     75\u001b[0m     \u001b[38;5;28mself\u001b[39m\u001b[38;5;241m.\u001b[39m_lc_kwargs \u001b[38;5;241m=\u001b[39m kwargs\n",
      "File \u001b[0;32m/opt/conda/lib/python3.10/site-packages/pydantic/main.py:341\u001b[0m, in \u001b[0;36mBaseModel.__init__\u001b[0;34m(__pydantic_self__, **data)\u001b[0m\n\u001b[1;32m    339\u001b[0m values, fields_set, validation_error \u001b[38;5;241m=\u001b[39m validate_model(__pydantic_self__\u001b[38;5;241m.\u001b[39m\u001b[38;5;18m__class__\u001b[39m, data)\n\u001b[1;32m    340\u001b[0m \u001b[38;5;28;01mif\u001b[39;00m validation_error:\n\u001b[0;32m--> 341\u001b[0m     \u001b[38;5;28;01mraise\u001b[39;00m validation_error\n\u001b[1;32m    342\u001b[0m \u001b[38;5;28;01mtry\u001b[39;00m:\n\u001b[1;32m    343\u001b[0m     object_setattr(__pydantic_self__, \u001b[38;5;124m'\u001b[39m\u001b[38;5;124m__dict__\u001b[39m\u001b[38;5;124m'\u001b[39m, values)\n",
      "\u001b[0;31mValidationError\u001b[0m: 1 validation error for RetrievalQA\ntop_k\n  extra fields not permitted (type=value_error.extra)"
     ]
    }
   ],
   "source": [
    "qa = RetrievalQA.from_chain_type(\n",
    "    llm=llm,\n",
    "    chain_type='stuff',\n",
    "    retriever=retriever,\n",
    "    verbose=True,\n",
    "    memory=conversationmemory,\n",
    "    top_k=10\n",
    ")"
   ]
  },
  {
   "cell_type": "code",
   "execution_count": 163,
   "id": "e3b077cc-60ee-4650-bb90-44ace294db79",
   "metadata": {
    "tags": []
   },
   "outputs": [],
   "source": [
    "qa.return_source_documents = True"
   ]
  },
  {
   "cell_type": "code",
   "execution_count": 206,
   "id": "e6a33a72-9d4d-4da8-915c-34bfaa5629ad",
   "metadata": {
    "tags": []
   },
   "outputs": [],
   "source": [
    "response = qa('Quais os preços?')"
   ]
  },
  {
   "cell_type": "code",
   "execution_count": 201,
   "id": "b0e88072-ac24-4223-8b38-4776a57585fe",
   "metadata": {
    "tags": []
   },
   "outputs": [
    {
     "data": {
      "text/plain": [
       "dict_keys(['query', 'result'])"
      ]
     },
     "execution_count": 201,
     "metadata": {},
     "output_type": "execute_result"
    }
   ],
   "source": [
    "response.keys()"
   ]
  },
  {
   "cell_type": "code",
   "execution_count": 202,
   "id": "06ac51b7-a04e-4b4f-a7f4-5bd311dd9786",
   "metadata": {
    "tags": []
   },
   "outputs": [
    {
     "ename": "KeyError",
     "evalue": "'history'",
     "output_type": "error",
     "traceback": [
      "\u001b[0;31m---------------------------------------------------------------------------\u001b[0m",
      "\u001b[0;31mKeyError\u001b[0m                                  Traceback (most recent call last)",
      "Cell \u001b[0;32mIn[202], line 1\u001b[0m\n\u001b[0;32m----> 1\u001b[0m \u001b[43mresponse\u001b[49m\u001b[43m[\u001b[49m\u001b[38;5;124;43m'\u001b[39;49m\u001b[38;5;124;43mhistory\u001b[39;49m\u001b[38;5;124;43m'\u001b[39;49m\u001b[43m]\u001b[49m\n",
      "\u001b[0;31mKeyError\u001b[0m: 'history'"
     ]
    }
   ],
   "source": [
    "response['history']"
   ]
  },
  {
   "cell_type": "code",
   "execution_count": 207,
   "id": "879ad66a-334d-4b01-8e9a-1a0790d48c4e",
   "metadata": {
    "tags": []
   },
   "outputs": [
    {
     "data": {
      "text/plain": [
       "'Os preços dos produtos não estão especificados no contexto fornecido.'"
      ]
     },
     "execution_count": 207,
     "metadata": {},
     "output_type": "execute_result"
    }
   ],
   "source": [
    "response['result']"
   ]
  },
  {
   "cell_type": "code",
   "execution_count": null,
   "id": "03a078c3-21ec-44fa-a5fb-83af136123be",
   "metadata": {},
   "outputs": [],
   "source": []
  },
  {
   "cell_type": "code",
   "execution_count": 183,
   "id": "857d9a8c-42aa-4156-b29e-13a0e3c1ed98",
   "metadata": {},
   "outputs": [
    {
     "ename": "KeyError",
     "evalue": "'source_documents'",
     "output_type": "error",
     "traceback": [
      "\u001b[0;31m---------------------------------------------------------------------------\u001b[0m",
      "\u001b[0;31mKeyError\u001b[0m                                  Traceback (most recent call last)",
      "Cell \u001b[0;32mIn[183], line 1\u001b[0m\n\u001b[0;32m----> 1\u001b[0m docs \u001b[38;5;241m=\u001b[39m \u001b[43mresponse\u001b[49m\u001b[43m[\u001b[49m\u001b[38;5;124;43m'\u001b[39;49m\u001b[38;5;124;43msource_documents\u001b[39;49m\u001b[38;5;124;43m'\u001b[39;49m\u001b[43m]\u001b[49m\n",
      "\u001b[0;31mKeyError\u001b[0m: 'source_documents'"
     ]
    }
   ],
   "source": [
    "docs = response['source_documents']"
   ]
  },
  {
   "cell_type": "code",
   "execution_count": 161,
   "id": "f171babd-3387-4bbb-9945-d9bd3b248bd4",
   "metadata": {
    "tags": []
   },
   "outputs": [
    {
     "data": {
      "text/plain": [
       "10"
      ]
     },
     "execution_count": 161,
     "metadata": {},
     "output_type": "execute_result"
    }
   ],
   "source": [
    "len(docs)"
   ]
  },
  {
   "cell_type": "code",
   "execution_count": 87,
   "id": "8e4b95d9-c7b8-4a4e-a912-f5e79ea73558",
   "metadata": {
    "tags": []
   },
   "outputs": [
    {
     "data": {
      "text/plain": [
       "\u001b[0;31mSignature:\u001b[0m\n",
       "\u001b[0mRetrievalQA\u001b[0m\u001b[0;34m.\u001b[0m\u001b[0mfrom_chain_type\u001b[0m\u001b[0;34m(\u001b[0m\u001b[0;34m\u001b[0m\n",
       "\u001b[0;34m\u001b[0m    \u001b[0mllm\u001b[0m\u001b[0;34m:\u001b[0m \u001b[0;34m'BaseLanguageModel'\u001b[0m\u001b[0;34m,\u001b[0m\u001b[0;34m\u001b[0m\n",
       "\u001b[0;34m\u001b[0m    \u001b[0mchain_type\u001b[0m\u001b[0;34m:\u001b[0m \u001b[0;34m'str'\u001b[0m \u001b[0;34m=\u001b[0m \u001b[0;34m'stuff'\u001b[0m\u001b[0;34m,\u001b[0m\u001b[0;34m\u001b[0m\n",
       "\u001b[0;34m\u001b[0m    \u001b[0mchain_type_kwargs\u001b[0m\u001b[0;34m:\u001b[0m \u001b[0;34m'Optional[dict]'\u001b[0m \u001b[0;34m=\u001b[0m \u001b[0;32mNone\u001b[0m\u001b[0;34m,\u001b[0m\u001b[0;34m\u001b[0m\n",
       "\u001b[0;34m\u001b[0m    \u001b[0;34m**\u001b[0m\u001b[0mkwargs\u001b[0m\u001b[0;34m:\u001b[0m \u001b[0;34m'Any'\u001b[0m\u001b[0;34m,\u001b[0m\u001b[0;34m\u001b[0m\n",
       "\u001b[0;34m\u001b[0m\u001b[0;34m)\u001b[0m \u001b[0;34m->\u001b[0m \u001b[0;34m'BaseRetrievalQA'\u001b[0m\u001b[0;34m\u001b[0m\u001b[0;34m\u001b[0m\u001b[0m\n",
       "\u001b[0;31mDocstring:\u001b[0m Load chain from chain type.\n",
       "\u001b[0;31mFile:\u001b[0m      /opt/conda/lib/python3.10/site-packages/langchain/chains/retrieval_qa/base.py\n",
       "\u001b[0;31mType:\u001b[0m      method"
      ]
     },
     "metadata": {},
     "output_type": "display_data"
    }
   ],
   "source": [
    "RetrievalQA.from_chain_type?"
   ]
  },
  {
   "cell_type": "code",
   "execution_count": 84,
   "id": "9b2d13ae-36b5-4fe9-870c-7e41206ac026",
   "metadata": {
    "tags": []
   },
   "outputs": [
    {
     "data": {
      "text/plain": [
       "[Document(page_content='Descrição\\nO óculos de Natação Aqua 2.0 da linha F.SHERER é perfeito para aqueles que praticam a natação no dia a dia. As narigueiras que acompanham o óculos têm 3 tamanhos ajustáveis, para que o nadador possa ajustar adequadamente. Além disso, possuem tira dupla de silicone e padrão ótico internacional.\\nCARACTERÍSTICA\\nLentes de policarbonato.\\n100% de proteção UV.\\nNarigueira removível em 3 tamanhos (ajustáveis).\\nTira dupla de silicone (mais resistente e confortável).\\nPadrão ótico internacional.\\nCOMPOSIÇÃO\\nLentes: Policarbonato.\\nVedação: PVC.\\nTira: Silicone.\\nNarigueira: Poliuretano.\\nCUIDADOS\\n- Não esfregue o interior das lentes.\\n- Enxágue com água fria para remover a sujeira e deixe secar ao ar livre.\\n- Não deixe seus óculos sob a luz solar direta, isso pode danificar a pigmentação dos óculos.', metadata={'source': '/home/jovyan/LangChain/HammerHead/hammerhead_full_scrap.json', 'seq_num': 113}),\n",
       " Document(page_content='Descrição\\nO óculos de Natação AQUATECH da linha performance tem um design diferenciado e é uma ótima opção para treino e competição. Por possuir lentes panorâmicas, permite que tenha uma visão perfeita e sem distorção. Além disso, tem uma vedação perfeita com lentes antifog (antiembaçante), é extremamente leve e possui narigueira removível em 3 tamanhos para o encaixe de vários formatos de rosto.\\nCARACTERÍSTICA\\nLentes de policarbonato.\\n100% de proteção UV.\\nNarigueira removível em 3 tamanhos (ajustáveis).\\nVedação em silicone Comfort.\\nTira de silicone Racing.\\nExtremamente leve.\\nPerfil baixo.\\nAntifog (Película Antiembaçante).\\nCOMPOSIÇÃO\\nLentes: Policarbonato.\\nVedação: Silicone.\\nTira: Silicone.\\nNarigueira: Poliuretano.\\nCUIDADOS\\n- Não esfregue o interior das lentes.\\n- Enxágue com água fria para remover a sujeira e deixe secar ao ar livre.\\n- Não deixe seus óculos sob a luz solar direta, isso pode danificar a pigmentação dos óculos.', metadata={'source': '/home/jovyan/LangChain/HammerHead/hammerhead_full_scrap.json', 'seq_num': 105}),\n",
       " Document(page_content='Descrição\\nO óculos de Natação AQUATECH MIRROR da linha performance tem um design diferenciado e é uma ótima opção para treino e competição.Por possuir lentes espalhadas e panorâmicas, permite que tenha uma visão perfeita e sem distorção. Além disso, tem uma vedação perfeita com lentes antifog (antiembaçante), é extremamente leve e possui narigueira removível em 3 tamanhos para o encaixe de vários formatos de rosto.\\nCARACTERÍSTICA\\nLentes Espelhadas de policarbonato.\\n100% de proteção UV.\\nNarigueira removível em 3 tamanhos (ajustáveis).\\nVedação em silicone Comfort.\\nTira de silicone Racing.\\nExtremamente leve.\\nPerfil baixo.\\nAntifog(Película Antiembaçante).\\nCOMPOSIÇÃO\\nLentes: Policarbonato.\\nVedação: Silicone.\\nTira: Silicone.\\nNarigueira: Poliuretano.\\nCUIDADOS\\n- Não esfregue o interior das lentes.\\n- Enxágue com água fria para remover a sujeira e deixe secar ao ar livre.\\n- Não deixe seus óculos sob a luz solar direta, isso pode danificar a pigmentação dos óculos.', metadata={'source': '/home/jovyan/LangChain/HammerHead/hammerhead_full_scrap.json', 'seq_num': 110}),\n",
       " Document(page_content='Descrição\\nÓculos Natação Hammerhead Avenger utilizado por nadadores de águas abertas. Leve com boa vedação, visibilidade e conforto. Tira dupla de silicone com presilha de fácil ajuste. Lentes com visão panorâmica equipadas com proteção contra raios UV e película antiembaçante.\\nCARACTERÍSTICA\\nLentes de policarbonato.\\n100% de proteção UV.\\nVedação em Silicone Comfort.\\nTira dupla de Silicone.\\nVisão Panorâmica.\\nFácil Ajuste.\\nCOMPOSIÇÃO\\nLentes: Policarbonato.\\nVedação: Silicone.\\nTira: Silicone.\\nCUIDADOS\\n- Não esfregue o interior das lentes.\\n- Enxágue com água fria para remover a sujeira e deixe secar ao ar livre.\\n- Não deixe seus óculos sob a luz solar direta, isso pode danificar a pigmentação dos óculos.', metadata={'source': '/home/jovyan/LangChain/HammerHead/hammerhead_full_scrap.json', 'seq_num': 123})]"
      ]
     },
     "execution_count": 84,
     "metadata": {},
     "output_type": "execute_result"
    }
   ],
   "source": []
  },
  {
   "cell_type": "code",
   "execution_count": null,
   "id": "e55df4ac-512e-47d3-b251-66d955847274",
   "metadata": {},
   "outputs": [],
   "source": []
  },
  {
   "cell_type": "code",
   "execution_count": null,
   "id": "57f24ccb-cc8c-4d08-a8f9-3a43698b85bb",
   "metadata": {},
   "outputs": [],
   "source": []
  },
  {
   "cell_type": "code",
   "execution_count": 78,
   "id": "23f5d8ec-5c92-4496-8cfc-31d608f64509",
   "metadata": {
    "tags": []
   },
   "outputs": [],
   "source": [
    "qa.return_source_documents = True"
   ]
  },
  {
   "cell_type": "code",
   "execution_count": null,
   "id": "6f907f01-6fa9-4ab5-843d-cff95b22706d",
   "metadata": {},
   "outputs": [],
   "source": []
  },
  {
   "cell_type": "code",
   "execution_count": null,
   "id": "75326101-0df1-4850-ba10-85d2ca05a7ee",
   "metadata": {},
   "outputs": [],
   "source": []
  },
  {
   "cell_type": "code",
   "execution_count": null,
   "id": "314dbece-22a3-4801-ac11-950a54c4a666",
   "metadata": {},
   "outputs": [],
   "source": []
  },
  {
   "cell_type": "code",
   "execution_count": null,
   "id": "c40cc964-4ca2-467f-9d5f-f766e7f2d23b",
   "metadata": {},
   "outputs": [],
   "source": []
  },
  {
   "cell_type": "code",
   "execution_count": 98,
   "id": "26092df4-8d40-4897-ba2d-d662c466d354",
   "metadata": {
    "tags": []
   },
   "outputs": [],
   "source": [
    "embeddings = OpenAIEmbeddings()\n",
    "db = DocArrayInMemorySearch.from_documents(\n",
    "    docs, embeddings, n_dim=1536\n",
    ")"
   ]
  },
  {
   "cell_type": "code",
   "execution_count": 100,
   "id": "7f7724b9-b358-45b1-b071-1ac88986c776",
   "metadata": {
    "tags": []
   },
   "outputs": [
    {
     "data": {
      "text/plain": [
       "[Document(page_content=' \\nFacebook-f Instagram Google \\nAGENDAR CONSULTA \\nMenu \\nMenu \\nPesquisar \\nExcelência técnica \\ncom olhar humano.\\nAGENDE UMA CONSULTA\\nPrecisão e segurança\\npara o seu diagnóstico.\\nVER EXAMES\\nCirurgias Oculares\\nVER CIRURGIAS\\nSua opinião é \\nimportante para nós.\\nDEIXE SUA AVALIAÇÃO\\nExcelência técnica \\ncom olhar humano.\\nAGENDE UMA CONSULTA\\nPrecisão e segurança\\npara o seu diagnóstico.\\nVER EXAMES\\nCirurgias Oculares\\nVER CIRURGIAS\\nSua opinião é \\nimportante para nós.\\nDEIXE SUA AVALIAÇÃO\\nExcelência técnica \\ncom olhar humano.\\nAGENDE UMA CONSULTA\\nPrecisão e segurança\\npara o seu diagnóstico.\\nVER EXAMES\\nCirurgias Oculares\\nVER CIRURGIAS\\nSua opinião é \\nimportante para nós.\\nDEIXE SUA AVALIAÇÃO\\nAnterior \\nPróximo \\nSobre o Instituto\\nCom mais de 30 anos de tradição e localizado no centro de Florianópolis, no Instituto de Olhos de Florianópolis você receberá um atendimento especial e personalizado para cuidar da saúde dos seus olhos.. \\nSAIBA MAIS \\nExames oftalmológicos\\nPossuímos uma equipe especializada e infraestrutura completa para a realização de exames oftalmológicos.\\nSAIBA MAIS \\nCirurgias\\nModerno centro cirúrgico, exclusivamente voltado à saúde ocular. \\nVER CIRURGIAS \\nEspecialidades\\nOftalmopediatria\\nPlástica ocular \\nRetina e Vítreo\\nCatarata\\nCeratocone\\nCirurgia Refrativa a laser \\nCórnea e superfície ocular\\nEstrabismo\\nGlaucoma\\nLentes de contato\\nOftalmologia Geral\\nOftalmopediatria\\nPlástica ocular \\nRetina e Vítreo\\nCatarata\\nCeratocone\\nCirurgia Refrativa a laser \\nCórnea e superfície ocular\\nEstrabismo\\nGlaucoma\\nLentes de contato\\nOftalmologia Geral\\nOftalmopediatria\\nPlástica ocular \\nRetina e Vítreo\\nConheça nosso corpo clínico\\nOftalmologia de alto nível para você. \\nCONHEÇA NOSSA EQUIPE \\nConvênios\\nVER TODOS OS CONVÊNIOS \\nÚltimas do Blog\\nBlefarite: quais são as causas, consequências e tratamento? \\nOlhos irritados e vermelhos, coceira, lacrimejamento constante e sensibilidade à luz. Parece que estamos falando de conjuntivite, mas esses podem ser os sintomas de outra\\nLeia mais \\nCirurgia refrativa: conheça o procedimento \\nMiopia, hipermetropia, astigmatismo, presbiopia… São grandes as chances de você ter ou conhecer alguém que tenha um desses problemas de visão. Segundo dados da Organização\\nLeia mais \\nO que é estrabismo? \\nO estrabismo pode ser definido como a perda de alinhamento dos olhos. Ele pode ocorrer desde o nascimento por fatores hereditários (mais comum) ou pode\\nLeia mais \\nNewsletter\\nCadastre seus dados e fique atualizado com nossas dicas de saúde ocular. \\nE-mail \\nINSCREVA-SE ', metadata={'source': '/home/jovyan/LangChain/IOF/iof_pages_small.json', 'seq_num': 1}),\n",
       " Document(page_content=' \\nFacebook-f Instagram Google \\nAGENDAR CONSULTA \\nMenu \\nMenu \\nPesquisar \\nBlog\\nBlefarite: quais são as causas, consequências e tratamento? \\nOlhos irritados e vermelhos, coceira, lacrimejamento constante e sensibilidade à luz. Parece que estamos falando de conjuntivite, mas esses podem ser os sintomas de outra\\nLeia mais \\nCirurgia refrativa: conheça o procedimento \\nMiopia, hipermetropia, astigmatismo, presbiopia… São grandes as chances de você ter ou conhecer alguém que tenha um desses problemas de visão. Segundo dados da Organização\\nLeia mais \\nO que é estrabismo? \\nO estrabismo pode ser definido como a perda de alinhamento dos olhos. Ele pode ocorrer desde o nascimento por fatores hereditários (mais comum) ou pode\\nLeia mais \\nCeratocone tem cura? \\nSaber se o ceratocone tem cura é uma das primeiras dúvidas que o paciente tem ao receber o diagnóstico da doença. A resposta é simples:\\nLeia mais \\nA pressão ocular e o risco de glaucoma \\nNas consultas de rotina, uma das principais atenções do oftalmologista é verificar a pressão intraocular (PIO), e não é à toa. O aumento na pressão\\nLeia mais \\nEntendendo sobre catarata: Dos sintomas ao tratamento \\nA catarata ocorre pela perda de transparência no cristalino, uma lente natural que existe em nossos olhos. Os sintomas da catarata não aparecem de repente,\\nLeia mais ', metadata={'source': '/home/jovyan/LangChain/IOF/iof_pages_small.json', 'seq_num': 2})]"
      ]
     },
     "execution_count": 100,
     "metadata": {},
     "output_type": "execute_result"
    }
   ],
   "source": [
    "db.similarity_search(query)"
   ]
  },
  {
   "cell_type": "code",
   "execution_count": null,
   "id": "611f48df-d428-43fa-b171-ed3d42991c42",
   "metadata": {},
   "outputs": [],
   "source": []
  },
  {
   "cell_type": "code",
   "execution_count": null,
   "id": "d7f4b13a-9311-4014-a2f8-e3a756779319",
   "metadata": {},
   "outputs": [],
   "source": []
  },
  {
   "cell_type": "code",
   "execution_count": null,
   "id": "59937630-d3e3-4a5a-bffa-019fb1db9452",
   "metadata": {},
   "outputs": [],
   "source": []
  },
  {
   "cell_type": "code",
   "execution_count": null,
   "id": "2a74aa35-a9b7-4b6e-93c5-395a77f7b44e",
   "metadata": {},
   "outputs": [],
   "source": []
  },
  {
   "cell_type": "code",
   "execution_count": 15,
   "id": "10202e95-089e-4304-8af9-a0f81d9c162a",
   "metadata": {
    "tags": []
   },
   "outputs": [
    {
     "data": {
      "text/markdown": [
       " O FAQ fornece informações sobre como limpar óculos de natação, diferenças entre as lentes, tecnologias, armações, vedações e narigueiras, e como usar um spray ou líquido antifog."
      ],
      "text/plain": [
       "<IPython.core.display.Markdown object>"
      ]
     },
     "metadata": {},
     "output_type": "display_data"
    }
   ],
   "source": [
    "query = \"Que tipos de informação estão disponíveis no FAQ?\"\n",
    "response = index.query(query)\n",
    "display(Markdown(response))"
   ]
  },
  {
   "cell_type": "code",
   "execution_count": 16,
   "id": "a3953875-4fce-4320-9004-9be5e636ee10",
   "metadata": {
    "tags": []
   },
   "outputs": [
    {
     "data": {
      "text/markdown": [
       " O primeiro passo para higienizar/limpar os óculos é enxaguá-los com água filtrada e gelada após nadar em qualquer tipo de água. Tanto o sal quanto o cloro podem causar danos nas lentes, tiras, presilhas e na película antiembaçante, portanto, trate de enxaguar seus óculos com água limpa após cada uso. Agora é a hora de secar os óculos. O correto é deixar os óculos secarem naturalmente e fora da luz solar, pois o calor pode derreter as partes de silicone e trincar a lente. Certifique-se de que seus óculos estão totalmente secos antes de guardá-los, caso contrário bactérias e fungos podem danificar o produto. Por último, mas não menos importante, guarde seus ó"
      ],
      "text/plain": [
       "<IPython.core.display.Markdown object>"
      ]
     },
     "metadata": {},
     "output_type": "display_data"
    }
   ],
   "source": [
    "query = \"Como limpar o óculos?\"\n",
    "response = index.query(query)\n",
    "display(Markdown(response))"
   ]
  },
  {
   "cell_type": "code",
   "execution_count": 18,
   "id": "35ae971f-82e7-41d1-a91c-643b784965a0",
   "metadata": {
    "tags": []
   },
   "outputs": [],
   "source": [
    "docs = loader.load()"
   ]
  },
  {
   "cell_type": "code",
   "execution_count": 21,
   "id": "3faefdc1-ea0f-4036-9744-287c7c15572f",
   "metadata": {
    "tags": []
   },
   "outputs": [
    {
     "ename": "IndexError",
     "evalue": "list index out of range",
     "output_type": "error",
     "traceback": [
      "\u001b[0;31m---------------------------------------------------------------------------\u001b[0m",
      "\u001b[0;31mIndexError\u001b[0m                                Traceback (most recent call last)",
      "Cell \u001b[0;32mIn[21], line 1\u001b[0m\n\u001b[0;32m----> 1\u001b[0m \u001b[43mdocs\u001b[49m\u001b[43m[\u001b[49m\u001b[38;5;241;43m1\u001b[39;49m\u001b[43m]\u001b[49m\n",
      "\u001b[0;31mIndexError\u001b[0m: list index out of range"
     ]
    }
   ],
   "source": [
    "docs[1]"
   ]
  },
  {
   "cell_type": "code",
   "execution_count": 24,
   "id": "4e77e09a-afda-4890-9e28-c27ff4a1828c",
   "metadata": {
    "tags": []
   },
   "outputs": [],
   "source": [
    "docs = loader.load_and_split()"
   ]
  },
  {
   "cell_type": "code",
   "execution_count": null,
   "id": "cad2cdff-7b43-4395-b0cd-8175b5082acf",
   "metadata": {},
   "outputs": [],
   "source": []
  }
 ],
 "metadata": {
  "kernelspec": {
   "display_name": "Python 3 (ipykernel)",
   "language": "python",
   "name": "python3"
  },
  "language_info": {
   "codemirror_mode": {
    "name": "ipython",
    "version": 3
   },
   "file_extension": ".py",
   "mimetype": "text/x-python",
   "name": "python",
   "nbconvert_exporter": "python",
   "pygments_lexer": "ipython3",
   "version": "3.10.10"
  }
 },
 "nbformat": 4,
 "nbformat_minor": 5
}
