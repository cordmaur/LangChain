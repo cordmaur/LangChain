{
 "cells": [
  {
   "attachments": {
    "eef843ac-d309-4335-8912-e42c1d532590.png": {
     "image/png": "[encoded data removed]"
    }
   },
   "cell_type": "markdown",
   "id": "b867aee8-06ac-42b7-9117-3ba86d832ca4",
   "metadata": {},
   "source": [
    "![image.png](attachment:eef843ac-d309-4335-8912-e42c1d532590.png)\n",
    "# Assistente Virtual VisionSystem\n",
    "\n",
    "Esta prova de conceito foi concebida com alguns dos dados disponíveis na página `www2.visionsystem.com.br` e pode não refletir com exatidão as informações da empresa. "
   ]
  },
  {
   "cell_type": "code",
   "execution_count": 1,
   "id": "2f5a0d60-3239-4d29-b4a9-29c40b366131",
   "metadata": {
    "tags": []
   },
   "outputs": [],
   "source": [
    "from langchain.vectorstores import FAISS\n",
    "from langchain.embeddings.openai import OpenAIEmbeddings\n",
    "from langchain.chains import ConversationalRetrievalChain\n",
    "from langchain.llms import OpenAI\n",
    "import langchain\n",
    "import config\n",
    "\n",
    "from langchain.memory import ConversationBufferMemory"
   ]
  },
  {
   "cell_type": "code",
   "execution_count": 2,
   "id": "7be1436d-d4cd-42d4-99cf-67a967cae1bc",
   "metadata": {
    "tags": []
   },
   "outputs": [],
   "source": [
    "from datetime import datetime\n",
    "from IPython.display import HTML, display\n",
    "from ipywidgets import widgets"
   ]
  },
  {
   "cell_type": "code",
   "execution_count": 3,
   "id": "3e314157-2f25-426b-8a7a-4ee763a34aa1",
   "metadata": {
    "tags": []
   },
   "outputs": [],
   "source": [
    "# create the embeddings and load the DB (vectorstore)\n",
    "embeddings = OpenAIEmbeddings()\n",
    "vectorstore = FAISS.load_local('./VisionSystem/vision_faiss.store', embeddings=embeddings)"
   ]
  },
  {
   "cell_type": "code",
   "execution_count": 4,
   "id": "f32438d6-c81d-414c-9170-d37c856099e4",
   "metadata": {
    "tags": []
   },
   "outputs": [],
   "source": [
    "# Create a Conversation QA with a memory.\n",
    "\n",
    "memory = ConversationBufferMemory(memory_key=\"chat_history\", return_messages=True)\n",
    "\n",
    "qa = ConversationalRetrievalChain.from_llm(\n",
    "    llm=OpenAI(temperature=0), \n",
    "    retriever=vectorstore.as_retriever(), \n",
    "    memory=memory,\n",
    "    return_source_documents=False,\n",
    "    verbose=False\n",
    "\n",
    ")"
   ]
  },
  {
   "cell_type": "markdown",
   "id": "cd1913b1-80eb-4e87-bd83-33b77221c72b",
   "metadata": {},
   "source": [
    "## Adding the Interactive Chat"
   ]
  },
  {
   "cell_type": "code",
   "execution_count": 5,
   "id": "2a252d7b-bdbc-476d-8564-a352cc45505c",
   "metadata": {
    "tags": []
   },
   "outputs": [
    {
     "data": {
      "application/vnd.jupyter.widget-view+json": {
       "model_id": "3492c4a6dd3f47499e084e92c1038bab",
       "version_major": 2,
       "version_minor": 0
      },
      "text/plain": [
       "Output(layout=Layout(border_bottom='1px solid black', border_left='1px solid black', border_right='1px solid b…"
      ]
     },
     "metadata": {},
     "output_type": "display_data"
    },
    {
     "data": {
      "application/vnd.jupyter.widget-view+json": {
       "model_id": "b125cb78caa54cb6abbf6e9f921bb0ef",
       "version_major": 2,
       "version_minor": 0
      },
      "text/plain": [
       "Textarea(value='', placeholder='Escreva sua pergunta e aperte enviar')"
      ]
     },
     "metadata": {},
     "output_type": "display_data"
    },
    {
     "data": {
      "application/vnd.jupyter.widget-view+json": {
       "model_id": "009685f51fe84c60ba4fb2ce2d4ec248",
       "version_major": 2,
       "version_minor": 0
      },
      "text/plain": [
       "Button(description='Send', style=ButtonStyle())"
      ]
     },
     "metadata": {},
     "output_type": "display_data"
    }
   ],
   "source": [
    "import ipywidgets as widgets\n",
    "from IPython.display import display\n",
    "\n",
    "# Create the widgets\n",
    "txt_input = widgets.Textarea(placeholder='Escreva sua pergunta e aperte enviar')\n",
    "btn_send = widgets.Button(description='Send')\n",
    "out = widgets.Output(layout={'border': '1px solid black'})\n",
    "\n",
    "# Simulated chatbot response\n",
    "def get_chatbot_response(input_text):\n",
    "    \n",
    "    response = qa({\"question\": f\"{input_text}\"})\n",
    "    answer = response[\"answer\"]\n",
    "\n",
    "    return f'Assistente: {answer}'\n",
    "\n",
    "def on_send_button_clicked(b):\n",
    "    # When button is clicked, print the text and clear the input box\n",
    "    with out:\n",
    "        print('Usuário: ' + txt_input.value)\n",
    "        print(get_chatbot_response(txt_input.value))\n",
    "    txt_input.value = ''\n",
    "\n",
    "btn_send.on_click(on_send_button_clicked)\n",
    "\n",
    "# Display the widgets\n",
    "display(out, txt_input, btn_send)\n",
    "\n",
    "with out:\n",
    "    print('Escreva sua pergunta e aperte enviar')\n",
    "    print('Chatbot: Boa tarde, sou o assistente virtual VisionSystem. Você tem alguma dúvida sobre nossos produtos?')\n",
    "    \n",
    "txt_input.value = \"Quais categorias de produtos vocês trabalham?\""
   ]
  },
  {
   "cell_type": "code",
   "execution_count": null,
   "id": "46f0735c-2ddf-4bc0-8e08-0ba4c32fd219",
   "metadata": {},
   "outputs": [],
   "source": []
  },
  {
   "cell_type": "code",
   "execution_count": null,
   "id": "d51f6226-78d4-41a6-97af-1b65e1a1c6c8",
   "metadata": {},
   "outputs": [],
   "source": []
  }
 ],
 "metadata": {
  "kernelspec": {
   "display_name": "Python 3 (ipykernel)",
   "language": "python",
   "name": "python3"
  },
  "language_info": {
   "codemirror_mode": {
    "name": "ipython",
    "version": 3
   },
   "file_extension": ".py",
   "mimetype": "text/x-python",
   "name": "python",
   "nbconvert_exporter": "python",
   "pygments_lexer": "ipython3",
   "version": "3.10.10"
  }
 },
 "nbformat": 4,
 "nbformat_minor": 5
}
