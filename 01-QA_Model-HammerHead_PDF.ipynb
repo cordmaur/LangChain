{
 "cells": [
  {
   "cell_type": "markdown",
   "id": "bed9d881-4ca0-453c-83e5-253726772c23",
   "metadata": {},
   "source": [
    "# LangChain QA Test (HammerHead)"
   ]
  },
  {
   "cell_type": "code",
   "execution_count": 1,
   "id": "d8af2bf5-e2b9-455d-b84e-1b5061c8c8f7",
   "metadata": {
    "tags": []
   },
   "outputs": [],
   "source": [
    "# %pip install langchain --quiet\n",
    "# %pip install pypdf --quiet\n",
    "# %pip install openai --quiet\n",
    "# %pip install unstructured --quiet"
   ]
  },
  {
   "cell_type": "code",
   "execution_count": 9,
   "id": "ac5163ac-8285-4486-b438-fb36d8ddeeb7",
   "metadata": {
    "tags": []
   },
   "outputs": [
    {
     "name": "stdout",
     "output_type": "stream",
     "text": [
      "Note: you may need to restart the kernel to use updated packages.\n"
     ]
    }
   ],
   "source": [
    "%pip install tiktoken --quiet"
   ]
  },
  {
   "cell_type": "code",
   "execution_count": 2,
   "id": "870a8634-f031-4507-9a90-92a9bfd1ace7",
   "metadata": {
    "tags": []
   },
   "outputs": [],
   "source": [
    "# %pip install \"langchain[docarray]\""
   ]
  },
  {
   "cell_type": "code",
   "execution_count": 2,
   "id": "3169fc53-2eb9-4db7-bcca-910e3852969d",
   "metadata": {
    "tags": []
   },
   "outputs": [],
   "source": [
    "import os"
   ]
  },
  {
   "cell_type": "code",
   "execution_count": 3,
   "id": "dfd8c59e-e383-4663-94f3-b6935dc6b111",
   "metadata": {
    "tags": []
   },
   "outputs": [],
   "source": [
    "from pathlib import Path"
   ]
  },
  {
   "cell_type": "code",
   "execution_count": 4,
   "id": "efa26b79-991d-4fac-979c-1d633fd0b5ac",
   "metadata": {
    "tags": []
   },
   "outputs": [],
   "source": [
    "from langchain.chains import RetrievalQA\n",
    "from langchain.chat_models import ChatOpenAI\n",
    "from langchain.document_loaders import CSVLoader\n",
    "from langchain.vectorstores import DocArrayInMemorySearch\n",
    "from IPython.display import display, Markdown\n",
    "\n",
    "from langchain.document_loaders import UnstructuredPDFLoader as Loader\n",
    "\n",
    "from langchain.indexes import VectorstoreIndexCreator"
   ]
  },
  {
   "cell_type": "code",
   "execution_count": 3,
   "id": "3710af17-3a48-449c-a303-5aa1f7947bde",
   "metadata": {
    "tags": []
   },
   "outputs": [],
   "source": [
    "import config"
   ]
  },
  {
   "cell_type": "code",
   "execution_count": 6,
   "id": "9022865d-e5e5-4974-8fb2-8cfd311624c7",
   "metadata": {
    "tags": []
   },
   "outputs": [],
   "source": [
    "file = Path('./HammerHeadFaq.pdf')\n",
    "assert file.exists()\n"
   ]
  },
  {
   "cell_type": "code",
   "execution_count": 7,
   "id": "35370dcc-bac2-4fff-b55d-7a456a94567f",
   "metadata": {
    "tags": []
   },
   "outputs": [],
   "source": [
    "loader = Loader(file_path=file.as_posix())"
   ]
  },
  {
   "cell_type": "code",
   "execution_count": 10,
   "id": "fbbe0ea1-712d-4539-9d7c-c221a3d66606",
   "metadata": {
    "tags": []
   },
   "outputs": [],
   "source": [
    "index = VectorstoreIndexCreator(\n",
    "    vectorstore_cls=DocArrayInMemorySearch\n",
    ").from_loaders([loader])"
   ]
  },
  {
   "cell_type": "code",
   "execution_count": 14,
   "id": "50cb9ad0-7bf9-4bc0-9fcb-d95a654967f1",
   "metadata": {
    "tags": []
   },
   "outputs": [],
   "source": [
    "query = \"A qual tipo de produto este FAQ se refere?\"\n",
    "\n",
    "response = index.query(query)\n",
    "\n",
    "display(Markdown(response))"
   ]
  },
  {
   "cell_type": "code",
   "execution_count": 15,
   "id": "10202e95-089e-4304-8af9-a0f81d9c162a",
   "metadata": {
    "tags": []
   },
   "outputs": [
    {
     "data": {
      "text/markdown": [
       " O FAQ fornece informações sobre como limpar óculos de natação, diferenças entre as lentes, tecnologias, armações, vedações e narigueiras, e como usar um spray ou líquido antifog."
      ],
      "text/plain": [
       "<IPython.core.display.Markdown object>"
      ]
     },
     "metadata": {},
     "output_type": "display_data"
    }
   ],
   "source": [
    "query = \"Que tipos de informação estão disponíveis no FAQ?\"\n",
    "response = index.query(query)\n",
    "display(Markdown(response))"
   ]
  },
  {
   "cell_type": "code",
   "execution_count": 16,
   "id": "a3953875-4fce-4320-9004-9be5e636ee10",
   "metadata": {
    "tags": []
   },
   "outputs": [
    {
     "data": {
      "text/markdown": [
       " O primeiro passo para higienizar/limpar os óculos é enxaguá-los com água filtrada e gelada após nadar em qualquer tipo de água. Tanto o sal quanto o cloro podem causar danos nas lentes, tiras, presilhas e na película antiembaçante, portanto, trate de enxaguar seus óculos com água limpa após cada uso. Agora é a hora de secar os óculos. O correto é deixar os óculos secarem naturalmente e fora da luz solar, pois o calor pode derreter as partes de silicone e trincar a lente. Certifique-se de que seus óculos estão totalmente secos antes de guardá-los, caso contrário bactérias e fungos podem danificar o produto. Por último, mas não menos importante, guarde seus ó"
      ],
      "text/plain": [
       "<IPython.core.display.Markdown object>"
      ]
     },
     "metadata": {},
     "output_type": "display_data"
    }
   ],
   "source": [
    "query = \"Como limpar o óculos?\"\n",
    "response = index.query(query)\n",
    "display(Markdown(response))"
   ]
  },
  {
   "cell_type": "code",
   "execution_count": 18,
   "id": "35ae971f-82e7-41d1-a91c-643b784965a0",
   "metadata": {
    "tags": []
   },
   "outputs": [],
   "source": [
    "docs = loader.load()"
   ]
  },
  {
   "cell_type": "code",
   "execution_count": 21,
   "id": "3faefdc1-ea0f-4036-9744-287c7c15572f",
   "metadata": {
    "tags": []
   },
   "outputs": [
    {
     "ename": "IndexError",
     "evalue": "list index out of range",
     "output_type": "error",
     "traceback": [
      "\u001b[0;31m---------------------------------------------------------------------------\u001b[0m",
      "\u001b[0;31mIndexError\u001b[0m                                Traceback (most recent call last)",
      "Cell \u001b[0;32mIn[21], line 1\u001b[0m\n\u001b[0;32m----> 1\u001b[0m \u001b[43mdocs\u001b[49m\u001b[43m[\u001b[49m\u001b[38;5;241;43m1\u001b[39;49m\u001b[43m]\u001b[49m\n",
      "\u001b[0;31mIndexError\u001b[0m: list index out of range"
     ]
    }
   ],
   "source": [
    "docs[1]"
   ]
  },
  {
   "cell_type": "code",
   "execution_count": 24,
   "id": "4e77e09a-afda-4890-9e28-c27ff4a1828c",
   "metadata": {
    "tags": []
   },
   "outputs": [],
   "source": [
    "docs = loader.load_and_split()"
   ]
  },
  {
   "cell_type": "code",
   "execution_count": null,
   "id": "cad2cdff-7b43-4395-b0cd-8175b5082acf",
   "metadata": {},
   "outputs": [],
   "source": []
  }
 ],
 "metadata": {
  "kernelspec": {
   "display_name": "Python 3 (ipykernel)",
   "language": "python",
   "name": "python3"
  },
  "language_info": {
   "codemirror_mode": {
    "name": "ipython",
    "version": 3
   },
   "file_extension": ".py",
   "mimetype": "text/x-python",
   "name": "python",
   "nbconvert_exporter": "python",
   "pygments_lexer": "ipython3",
   "version": "3.10.10"
  }
 },
 "nbformat": 4,
 "nbformat_minor": 5
}
